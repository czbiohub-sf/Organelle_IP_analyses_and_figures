{
 "cells": [
  {
   "cell_type": "markdown",
   "metadata": {},
   "source": [
    "## Fig. 1 panel L heatmap\n",
    "\n",
    "Prerequisite: Please run the notebooks in the enrichment folder first"
   ]
  },
  {
   "cell_type": "code",
   "execution_count": 1,
   "metadata": {},
   "outputs": [],
   "source": [
    "import os\n",
    "import sys\n",
    "from datetime import datetime\n",
    "from pathlib import Path\n",
    "import matplotlib.pyplot as plt\n",
    "import numpy as np\n",
    "import pandas as pd\n",
    "\n",
    "plt.style.use('ggplot')\n",
    "plt.rcParams['pdf.fonttype'] = 42\n",
    "import seaborn as sns\n",
    "\n",
    "script_path = Path.cwd().parent.parent.parent / \"script\"\n",
    "data_path = Path.cwd().parent.parent.parent / \"data\"\n",
    "sys.path.append(str(script_path))\n",
    "\n",
    "from utils.label_processing import attach_annotations"
   ]
  },
  {
   "cell_type": "markdown",
   "metadata": {},
   "source": [
    "### Load the volcano table"
   ]
  },
  {
   "cell_type": "code",
   "execution_count": 2,
   "metadata": {},
   "outputs": [
    {
     "name": "stdout",
     "output_type": "stream",
     "text": [
      "Timestamp: 2023-10-21-imp5-for-figures\n"
     ]
    }
   ],
   "source": [
    "%store -r timestamp\n",
    "print(f\"Timestamp: {timestamp}\")"
   ]
  },
  {
   "cell_type": "code",
   "execution_count": 3,
   "metadata": {},
   "outputs": [],
   "source": [
    "# define files to load\n",
    "enrichment_dir = Path.cwd().parent.parent / \"enrichment\"\n",
    "volcano_csv_path = enrichment_dir / \"output\" / \"enrichment_and_volcano_tables\" / f\"{timestamp}_volcano_table.csv\"\n",
    "\n",
    "try:\n",
    "    # load the file\n",
    "    volcano = pd.read_csv(volcano_csv_path, header=[0, 1], index_col=0)\n",
    "except FileNotFoundError:\n",
    "    print(f\"File {volcano_csv_path} not found.\\nPlease run the enrichment analysis first or specify the correct timestamp, current value is {timestamp}\")\n",
    "except pd.errors.ParserError:\n",
    "    print(f\"There was an error parsing the CSV file at {volcano_csv_path}.\")\n",
    "except Exception as e:\n",
    "    print(f\"An unexpected error occurred: {e}\")"
   ]
  },
  {
   "cell_type": "code",
   "execution_count": 4,
   "metadata": {},
   "outputs": [],
   "source": [
    "# attach canonical gene names\n",
    "gene_name_csv = data_path / \"external\" / \"canonical_names_and_Itzhak_data.csv\"\n",
    "\n",
    "lookup_table = pd.read_csv(gene_name_csv)\n",
    "to_df = volcano[\"metadata\"].copy()\n",
    "list_of_cols_to_add = reversed([\"Gene_name_canonical\"])\n",
    "for c in list_of_cols_to_add:\n",
    "    new_col_data = attach_annotations(from_df=lookup_table, to_df=to_df, anno_col=c , from_on=\"Majority protein IDs\", to_on=\"Majority protein IDs\")\n",
    "    volcano[(\"metadata\", \"Gene_name_canonical\")] = new_col_data\n",
    "\n",
    "# attach ground truth\n",
    "ground_truth_csv = data_path / \"external\" / \"organelle_curated_ground_truth_v6.0.csv\"\n",
    "\n",
    "lookup_table = pd.read_csv(ground_truth_csv)\n",
    "to_df = volcano[\"metadata\"].copy()\n",
    "list_of_cols_to_add = reversed([\"organelle\"])\n",
    "for c in list_of_cols_to_add:\n",
    "    new_col_data = attach_annotations(from_df=lookup_table, to_df=to_df, anno_col=c, from_on=\"gene_name_canonical\", to_on=\"Gene_name_canonical\")\n",
    "    volcano[(\"metadata\", \"organelle_ground_truth_v6.0\")] = new_col_data\n"
   ]
  },
  {
   "cell_type": "code",
   "execution_count": 5,
   "metadata": {},
   "outputs": [],
   "source": [
    "# define output directory\n",
    "output_dir = \"output\"\n",
    "if not os.path.exists(output_dir):\n",
    "    os.makedirs(output_dir)"
   ]
  },
  {
   "cell_type": "markdown",
   "metadata": {},
   "source": [
    "### Split the pvals and enrichments into two dataframes"
   ]
  },
  {
   "cell_type": "code",
   "execution_count": 6,
   "metadata": {},
   "outputs": [],
   "source": [
    "sample_cols = [i for i in volcano.columns if i[0].startswith((\"0\", \"1\", \"2\", \"3\", \"4\", \"5\", \"6\", \"7\", \"8\", \"9\"))]"
   ]
  },
  {
   "cell_type": "code",
   "execution_count": 7,
   "metadata": {},
   "outputs": [],
   "source": [
    "pval = volcano.copy()\n",
    "for col in sample_cols:\n",
    "    if col[1] == \"enrichment\":\n",
    "        pval.drop(col, axis=1, inplace=True)"
   ]
  },
  {
   "cell_type": "code",
   "execution_count": 8,
   "metadata": {},
   "outputs": [],
   "source": [
    "# construct a p-value dataframe\n",
    "pval = volcano.copy()\n",
    "for col in sample_cols:\n",
    "    if col[1] == \"enrichment\":\n",
    "        pval.drop(col, axis=1, inplace=True)\n",
    "\n",
    "# rename the columns so that pval becomes the sample name (prepare for level drop)\n",
    "new_column_names = [(i[0], i[0]) if i[1] == \"pvals\" else (i[0], i[1]) for i in pval.columns]\n",
    "pval.columns = pd.MultiIndex.from_tuples(new_column_names)\n",
    "pval = pval.droplevel(0, axis=1)\n",
    "\n",
    "# construct an enrichment dataframe\n",
    "enrichment = volcano.copy()\n",
    "for col in sample_cols:\n",
    "    if col[1] == \"pvals\":\n",
    "        enrichment.drop(col, axis=1, inplace=True)\n",
    "\n",
    "# rename the columns so that enrichment becomes the sample name (prepare for level drop)\n",
    "new_column_names = [\n",
    "    (i[0], i[0]) if i[1] == \"enrichment\" else (i[0], i[1]) for i in enrichment.columns\n",
    "]\n",
    "enrichment.columns = pd.MultiIndex.from_tuples(new_column_names)\n",
    "enrichment = enrichment.droplevel(0, axis=1)"
   ]
  },
  {
   "cell_type": "code",
   "execution_count": 9,
   "metadata": {},
   "outputs": [],
   "source": [
    "# drop WT columns\n",
    "\n",
    "for col in enrichment.columns:\n",
    "    if \"WT\" in col:\n",
    "        enrichment.drop(col, axis=1, inplace=True)\n",
    "        pval.drop(col, axis=1, inplace=True)"
   ]
  },
  {
   "cell_type": "markdown",
   "metadata": {},
   "source": [
    "### For insignificant p-vals convert the enrichment value to 0"
   ]
  },
  {
   "cell_type": "code",
   "execution_count": 10,
   "metadata": {},
   "outputs": [],
   "source": [
    "samples = sorted([i for i in enrichment.columns if i.startswith((\"0\", \"1\", \"2\", \"3\", \"4\", \"5\", \"6\", \"7\", \"8\", \"9\")) and \"WT\" not in i])"
   ]
  },
  {
   "cell_type": "code",
   "execution_count": 11,
   "metadata": {},
   "outputs": [
    {
     "data": {
      "text/plain": [
       "1.3010299956639813"
      ]
     },
     "execution_count": 11,
     "metadata": {},
     "output_type": "execute_result"
    }
   ],
   "source": [
    "-np.log10(0.05)"
   ]
  },
  {
   "cell_type": "code",
   "execution_count": 12,
   "metadata": {},
   "outputs": [],
   "source": [
    "enrichment_masked = enrichment.copy()\n",
    "\n",
    "for col in samples:\n",
    "    mask = pval[col] < 1.301  # set the values to 0 if pval > 0.05\n",
    "    enrichment_masked.loc[mask, col] = 0  # set the values to NA if pval > 0.05\n",
    "\n",
    "    mask2 = enrichment[col] < 0\n",
    "    enrichment_masked.loc[mask2, col] = 0  # set the values to 0 if enrichment < 0"
   ]
  },
  {
   "cell_type": "markdown",
   "metadata": {},
   "source": [
    "### Subset the dataframe to only include ground truth genes"
   ]
  },
  {
   "cell_type": "code",
   "execution_count": 13,
   "metadata": {},
   "outputs": [],
   "source": [
    "# subset the umap table to remove rows with nan values in the ground truth labels\n",
    "def subset_df(df):\n",
    "    assert \"organelle_ground_truth_v6.0\" in df.columns, \"organelle column not found\"\n",
    "\n",
    "    # convert organelle labels to integers\n",
    "    unique_strings = list(set(df[\"organelle_ground_truth_v6.0\"]))  # Get unique strings\n",
    "    str_to_int_mapping = {string: index for index, string in enumerate(unique_strings)}  # Create a mapping from strings to unique integers\n",
    "    org_label_data = [\n",
    "        str_to_int_mapping[s] if not pd.isna(s) else s\n",
    "        for s in df[\"organelle_ground_truth_v6.0\"]\n",
    "    ]  # Convert the list of strings to a list of integers\n",
    "    org_GT = np.array(org_label_data)\n",
    "\n",
    "    # get non-NAN indices\n",
    "    org_GT_non_nan_idx = np.nonzero(~np.isnan(org_GT))[0]\n",
    "\n",
    "    # subset the umap table to remove rows with nan values in the ground truth labels\n",
    "    df_org_GT = df.iloc[list(org_GT_non_nan_idx)]\n",
    "\n",
    "    return df_org_GT"
   ]
  },
  {
   "cell_type": "code",
   "execution_count": 14,
   "metadata": {},
   "outputs": [],
   "source": [
    "enrich_org_GT = subset_df(enrichment_masked)\n",
    "pval_org_GT = subset_df(pval)"
   ]
  },
  {
   "cell_type": "markdown",
   "metadata": {},
   "source": [
    "### Get averaged enrichment values for each organelle"
   ]
  },
  {
   "cell_type": "code",
   "execution_count": 15,
   "metadata": {},
   "outputs": [],
   "source": [
    "averaged_enrich_values = []\n",
    "for i in sorted(samples):\n",
    "    averaged_enrich_values.append(\n",
    "        enrich_org_GT.groupby(\"organelle_ground_truth_v6.0\")[i].mean()\n",
    "    )\n",
    "\n",
    "co_enrich_df = pd.DataFrame(averaged_enrich_values)"
   ]
  },
  {
   "cell_type": "markdown",
   "metadata": {},
   "source": [
    "### Plotting"
   ]
  },
  {
   "cell_type": "code",
   "execution_count": 16,
   "metadata": {},
   "outputs": [
    {
     "data": {
      "text/plain": [
       "Index(['ER', 'ERGIC', 'Golgi', 'actin-binding_protein', 'centrosome',\n",
       "       'early_endosome', 'lysosome', 'mitochondria', 'nuclear_pore', 'p-body',\n",
       "       'peroxisome', 'plasma membrane', 'ribosome', 'stress granule'],\n",
       "      dtype='object', name='organelle_ground_truth_v6.0')"
      ]
     },
     "execution_count": 16,
     "metadata": {},
     "output_type": "execute_result"
    }
   ],
   "source": [
    "co_enrich_df.columns"
   ]
  },
  {
   "cell_type": "code",
   "execution_count": 17,
   "metadata": {},
   "outputs": [],
   "source": [
    "# remove samples\n",
    "to_keep = [\n",
    "    \"05-EDC4\",\n",
    "    \"15-LAMP1\",\n",
    "    \"12-RTN4\",\n",
    "    \"12-SEC61B\",\n",
    "    \"12-TOMM20\",\n",
    "    # \"14-COPE\",\n",
    "    \"13-GOLGA2\",\n",
    "    \"14-RAB11A\",\n",
    "    # \"17-MAP1LC3B\",\n",
    "    \"11-EEA1\",\n",
    "    \"09-PEX3\",\n",
    "    \"17-SLC30A2\",\n",
    "    \"17-G3BP1\",\n",
    "    \"17-RPL36\",\n",
    "]\n",
    "co_enrich_df = co_enrich_df.loc[to_keep, :]\n",
    "\n",
    "# remove samples and enforce order\n",
    "orgs = [\n",
    "    \"ribosome\",\n",
    "    \"stress granule\",\n",
    "    \"p-body\",\n",
    "    \"plasma membrane\",\n",
    "    \"early_endosome\",\n",
    "    \"lysosome\",\n",
    "    \"Golgi\",\n",
    "    # \"ERGIC\",\n",
    "    \"ER\",\n",
    "    \"peroxisome\",\n",
    "    \"mitochondria\",\n",
    "]\n",
    "\n",
    "co_enrich_df = co_enrich_df[orgs]"
   ]
  },
  {
   "cell_type": "code",
   "execution_count": 18,
   "metadata": {},
   "outputs": [
    {
     "data": {
      "text/plain": [
       "['17-RPL36',\n",
       " '17-G3BP1',\n",
       " '05-EDC4',\n",
       " '17-SLC30A2',\n",
       " '11-EEA1',\n",
       " '15-LAMP1',\n",
       " '13-GOLGA2',\n",
       " '14-RAB11A',\n",
       " '09-PEX3',\n",
       " '12-RTN4',\n",
       " '12-SEC61B',\n",
       " '12-TOMM20']"
      ]
     },
     "execution_count": 18,
     "metadata": {},
     "output_type": "execute_result"
    }
   ],
   "source": [
    "# for each sample, get the strongest co-enriching organelle\n",
    "maxes = {}\n",
    "for i in co_enrich_df.index:\n",
    "    maxes[i] = co_enrich_df.loc[i].idxmax()\n",
    "\n",
    "# determine the sample order\n",
    "# go through the organelles and find the sample with the highest co-enrichment value\n",
    "sample_order = []\n",
    "for o in orgs:\n",
    "    for k, v in maxes.items():\n",
    "        if v == o:\n",
    "            sample_order.append(k)\n",
    "\n",
    "# check the order\n",
    "sample_order"
   ]
  },
  {
   "cell_type": "code",
   "execution_count": 19,
   "metadata": {},
   "outputs": [
    {
     "data": {
      "text/plain": [
       "['17-RPL36',\n",
       " '17-G3BP1',\n",
       " '05-EDC4',\n",
       " '17-SLC30A2',\n",
       " '11-EEA1',\n",
       " '15-LAMP1',\n",
       " '13-GOLGA2',\n",
       " '14-RAB11A',\n",
       " '12-RTN4',\n",
       " '12-SEC61B',\n",
       " '09-PEX3',\n",
       " '12-TOMM20']"
      ]
     },
     "execution_count": 19,
     "metadata": {},
     "output_type": "execute_result"
    }
   ],
   "source": [
    "# reposition 09-PEX3\n",
    "pex3 = sample_order.pop(8)\n",
    "sample_order.insert(10, pex3)\n",
    "# check sample order\n",
    "sample_order"
   ]
  },
  {
   "cell_type": "code",
   "execution_count": 20,
   "metadata": {},
   "outputs": [],
   "source": [
    "#apply order of samples\n",
    "df_plot = co_enrich_df[orgs]\n",
    "df_plot = df_plot.loc[sample_order]"
   ]
  },
  {
   "cell_type": "code",
   "execution_count": 26,
   "metadata": {},
   "outputs": [
    {
     "data": {
      "image/png": "[encoded data removed]",
      "text/plain": [
       "<Figure size 700x825 with 4 Axes>"
      ]
     },
     "metadata": {},
     "output_type": "display_data"
    }
   ],
   "source": [
    "df_plot.fillna(0, inplace=True)\n",
    "g = sns.clustermap(\n",
    "    df_plot,\n",
    "    figsize=(7, 8.25), col_cluster=False, row_cluster=False, standard_scale=None,\n",
    "    #z_score=0,  # 0 means row-wise z-score,\n",
    "    vmax = 5, # clip values above 5\n",
    "    cmap=\"YlGnBu\", linecolor=\"white\", linewidths=1,\n",
    ")\n",
    "g.ax_heatmap.set_xticklabels(g.ax_heatmap.get_xmajorticklabels(), fontsize=14)\n",
    "g.ax_heatmap.set_yticklabels(g.ax_heatmap.get_ymajorticklabels(), fontsize=12)\n",
    "g.ax_heatmap.set_xlabel(\"enriched compartment\", fontsize=14)\n",
    "g.ax_heatmap.set_ylabel(\"IPs\", fontsize=14)\n",
    "\n",
    "plt.savefig(os.path.join(output_dir, \"co-enrichment.pdf\"), bbox_inches=\"tight\")\n",
    "plt.savefig(os.path.join(output_dir, \"co-enrichment.svg\"), bbox_inches=\"tight\")"
   ]
  },
  {
   "cell_type": "code",
   "execution_count": null,
   "metadata": {},
   "outputs": [],
   "source": []
  }
 ],
 "metadata": {
  "kernelspec": {
   "display_name": "orgIP",
   "language": "python",
   "name": "python3"
  },
  "language_info": {
   "codemirror_mode": {
    "name": "ipython",
    "version": 3
   },
   "file_extension": ".py",
   "mimetype": "text/x-python",
   "name": "python",
   "nbconvert_exporter": "python",
   "pygments_lexer": "ipython3",
   "version": "3.10.9"
  }
 },
 "nbformat": 4,
 "nbformat_minor": 2
}
