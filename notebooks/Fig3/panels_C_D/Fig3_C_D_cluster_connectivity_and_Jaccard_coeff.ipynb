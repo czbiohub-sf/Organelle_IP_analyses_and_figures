{
 "cells": [
  {
   "cell_type": "markdown",
   "metadata": {},
   "source": [
    "## Fig. 3 panels C, D: cluster connectivity and Jaccard coefficient"
   ]
  },
  {
   "cell_type": "code",
   "execution_count": 1,
   "metadata": {},
   "outputs": [
    {
     "name": "stdout",
     "output_type": "stream",
     "text": [
      "c:\\Users\\duo.peng\\Documents\\Organelle_IP_figures\\notebooks\\Fig3\\panels_C_D\n"
     ]
    }
   ],
   "source": [
    "import sys\n",
    "from collections import Counter\n",
    "from datetime import datetime\n",
    "from itertools import combinations\n",
    "from pathlib import Path\n",
    "import anndata as ad\n",
    "import matplotlib.gridspec as gridspec\n",
    "import matplotlib.pyplot as plt\n",
    "import pandas as pd\n",
    "import seaborn as sns\n",
    "from tqdm.notebook import tqdm\n",
    "import numpy as np\n",
    "\n",
    "script_path = Path.cwd().parent.parent.parent / \"script\"\n",
    "sys.path.append(str(script_path))\n",
    "from utils.cluster_connections import *\n",
    "from utils.Jaccard_coefficient import *\n",
    "from utils.knn import *\n",
    "\n",
    "output_dir = Path.cwd() / \"output\"\n",
    "output_dir.mkdir(exist_ok=True)"
   ]
  },
  {
   "cell_type": "markdown",
   "metadata": {},
   "source": [
    "### load k-NN graph and annotations"
   ]
  },
  {
   "cell_type": "code",
   "execution_count": 2,
   "metadata": {},
   "outputs": [
    {
     "name": "stdout",
     "output_type": "stream",
     "text": [
      "Timestamp: 2023-10-21-imp5-for-figures\n"
     ]
    }
   ],
   "source": [
    "%store -r timestamp\n",
    "print(f\"Timestamp: {timestamp}\")"
   ]
  },
  {
   "cell_type": "code",
   "execution_count": 3,
   "metadata": {},
   "outputs": [
    {
     "name": "stdout",
     "output_type": "stream",
     "text": [
      "AnnData object with n_obs × n_vars = 8541 × 61\n",
      "    obs: 'Protein IDs', 'Majority protein IDs', 'Gene_name_canonical', 'curated_ground_truth_v9.0', 'cluster_annotation', 'Graph-based_localization_annotation', 'consensus_graph_annnotation'\n",
      "    var: 'mean', 'std'\n",
      "    uns: 'neighbors'\n",
      "    obsp: 'connectivities', 'distances'\n"
     ]
    }
   ],
   "source": [
    "adata_path = Path.cwd().parent.parent / \"Fig2\" / \"panel_C\" / \"output\" / f\"adata_kNN_{timestamp}.h5ad\"\n",
    "\n",
    "try:\n",
    "    adata = ad.read_h5ad(adata_path)\n",
    "except FileNotFoundError:\n",
    "    print(f\"File {adata_path} not found.\\nPlease run umap analysis first (fig2 panel C) or specify the correct timestamp, current value is {timestamp}\")\n",
    "except pd.errors.ParserError:\n",
    "    print(f\"There was an error parsing the file at {adata_path}.\")\n",
    "except Exception as e:\n",
    "    print(f\"An unexpected error occurred: {e}\")\n",
    "\n",
    "# check data\n",
    "print(adata)  # 8541 x 61 for reference dataset, and 8017 x 28 for remodeling data"
   ]
  },
  {
   "cell_type": "code",
   "execution_count": 4,
   "metadata": {},
   "outputs": [],
   "source": [
    "# load the annotations\n",
    "annotations_path = Path.cwd().parent.parent / \"Fig2\" / \"panel_C\" / \"output\" / f\"{timestamp}_graph-based_annotations.csv\"\n",
    "\n",
    "try:\n",
    "    annot_df = pd.read_csv(annotations_path, index_col=0)\n",
    "except FileNotFoundError:\n",
    "    print(f\"File {annotations_path} not found.\\nPlease run umap analysis first (fig2 panel C) or specify the correct timestamp, current value is {timestamp}\")\n",
    "except pd.errors.ParserError:\n",
    "    print(f\"There was an error parsing the file at {annotations_path}.\")\n",
    "except Exception as e:\n",
    "    print(f\"An unexpected error occurred: {e}\")\n"
   ]
  },
  {
   "cell_type": "markdown",
   "metadata": {},
   "source": [
    "### preprocessing"
   ]
  },
  {
   "cell_type": "code",
   "execution_count": 5,
   "metadata": {},
   "outputs": [],
   "source": [
    "#all_protein_ids = df_annot.index.to_list()\n",
    "all_majority_ids = adata.obs[\"Majority protein IDs\"].to_list()\n",
    "all_genes = adata.obs[\"Gene_name_canonical\"].to_list()\n",
    "\n",
    "# create a dictionary to translate majority protein IDs to gene names\n",
    "MajID_to_gene = dict(zip(all_majority_ids, all_genes))"
   ]
  },
  {
   "cell_type": "markdown",
   "metadata": {},
   "source": [
    "## Jaccard coefficient\n"
   ]
  },
  {
   "cell_type": "code",
   "execution_count": 6,
   "metadata": {},
   "outputs": [],
   "source": [
    "# parameter options\n",
    "norm_degrees_to_def_top_partites = True  # if True, when selecting partite 1 & 2, the normalized degree is used (note that Jaccard coefficient is still computed using the raw degrees)\n",
    "min_partite_deg = 3  # minimum number of degrees a node must have with a partite for the partite to be quaified for Jaccard coefficient computation\n",
    "annotation_to_use = \"consensus_graph_annnotation\"  # compartment annotations to use,  options are \"cluster_annotation\" or \"Graph-based_localization_annotation\"\n",
    "\n",
    "id_name = \"Majority protein IDs\"  # type of ids to use, options are \"Gene_name_canonical\" or \"Majority protein IDs\"\n",
    "id_list = all_majority_ids  # set to all_protein_ids if using \"Majority protein IDs\" and all_genes if using \"Gene_name_canonical\""
   ]
  },
  {
   "cell_type": "markdown",
   "metadata": {},
   "source": [
    "the next cell take about 1.5 hours to run, and the cell is skipped if a result csv is found"
   ]
  },
  {
   "cell_type": "code",
   "execution_count": 7,
   "metadata": {},
   "outputs": [
    {
     "name": "stdout",
     "output_type": "stream",
     "text": [
      "File c:\\Users\\duo.peng\\Documents\\Organelle_IP_figures\\notebooks\\Fig3\\panels_C_D\\output\\Jaccard_Coefficient_table_PartiteNorm=True_minParDeg=3.csv already exists, and loaded for subsequent analysis in this notebook.\n",
      "Please delete it if you want to recompute the Jaccard coefficient.\n"
     ]
    }
   ],
   "source": [
    "# check if the result csv file already exists\n",
    "csv_path = output_dir / f\"Jaccard_Coefficient_table_PartiteNorm={norm_degrees_to_def_top_partites}_minParDeg={min_partite_deg}.csv\"\n",
    "if csv_path.exists():\n",
    "    res_df = pd.read_csv(csv_path, index_col=0)\n",
    "    print(f\"File {csv_path} already exists, and loaded for subsequent analysis in this notebook.\\nPlease delete it if you want to recompute the Jaccard coefficient.\")\n",
    "else:\n",
    "    # we store the results in lists, which we will later convert to a dataframe\n",
    "    # we avoid using a dataframe directly because it is slow to append rows to it as the dataframe grows\n",
    "    #list_of_protein_ids = []\n",
    "    list_of_majority_ids = []\n",
    "    list_of_genes = []\n",
    "    list_of_neighbors = []\n",
    "    list_of_neighbors_annots = []\n",
    "    list_of_interfacialness = []\n",
    "    list_of_d1 = []\n",
    "    list_of_d2 = []\n",
    "    list_of_partite1 = []\n",
    "    list_of_partite2 = []\n",
    "    list_of_partite1_total_count = []\n",
    "    list_of_partite2_total_count = []\n",
    "    list_of_sorted_counts_prefilter = []\n",
    "\n",
    "    label_total_counts = dict(Counter(annot_df[annotation_to_use]))\n",
    "\n",
    "    # iterate over all genes and compute the Jaccard coefficient\n",
    "    for idx, gene in tqdm(enumerate(id_list), total=len(id_list)): \n",
    "        neighbor_list, neighbor_annot_list = gene_neighbor_annots(gene_name=gene, adata=adata, annot_df=annot_df, gene_name_col=id_name, annot_col=annotation_to_use)\n",
    "        (\n",
    "            J_coeff, \n",
    "            d1, d2, \n",
    "            partite1, partite2, \n",
    "            partite1_total_count, partite2_total_count, \n",
    "            sorted_counts_prefilter\n",
    "        ) = Jaccard_Coeff_mod(\n",
    "            neighbor_annot_list, label_total_counts,\n",
    "            norm_degrees_to_def_top_partites=norm_degrees_to_def_top_partites,\n",
    "            min_partite_deg=min_partite_deg, verbose=False\n",
    "        )\n",
    "        if J_coeff != \"NA\":\n",
    "            J_coeff = round(J_coeff,4)\n",
    "\n",
    "        neighbors = get_neighbors(adata.copy(),gene, id_name)\n",
    "        neighbors = neighbor_df_to_dict(neighbors)\n",
    "\n",
    "        if id_name == \"Majority protein IDs\": # translate Majority protein IDs to gene names in the neighbors dictionary\n",
    "            neighbors_translated = {MajID_to_gene[k]:v for k,v in neighbors.items()}\n",
    "            neighbors = neighbors_translated\n",
    "\n",
    "        \n",
    "        # write results to lists\n",
    "        #list_of_protein_ids.append(all_protein_ids[idx])\n",
    "        list_of_majority_ids.append(all_majority_ids[idx])\n",
    "        list_of_genes.append(all_genes[idx])\n",
    "        list_of_neighbors.append(neighbors)\n",
    "        list_of_neighbors_annots.append(neighbor_annot_list)\n",
    "        list_of_interfacialness.append(J_coeff)\n",
    "        list_of_d1.append(d1)\n",
    "        list_of_d2.append(d2)\n",
    "        list_of_partite1.append(partite1)\n",
    "        list_of_partite2.append(partite2)\n",
    "        list_of_partite1_total_count.append(partite1_total_count)\n",
    "        list_of_partite2_total_count.append(partite2_total_count)\n",
    "        list_of_sorted_counts_prefilter.append(sorted_counts_prefilter)\n",
    "\n",
    "    # convert the jaccard coefficient results to a dataframe and write to a csv file\n",
    "    res_df = pd.DataFrame({\n",
    "        #\"Protein IDs\" : list_of_protein_ids,\n",
    "        \"Majority protein IDs\": list_of_majority_ids,\n",
    "        \"Gene_names_canonical\": list_of_genes,\n",
    "        \"Neighbors(nn=20)\": list_of_neighbors,\n",
    "        \"Neighbors' annotation\": list_of_neighbors_annots,\n",
    "        \"Jaccard_Coefficient\": list_of_interfacialness,\n",
    "        \"degrees_partite1\": list_of_d1,\n",
    "        \"degrees_partite2\": list_of_d2,\n",
    "        \"partite1_name\": list_of_partite1,\n",
    "        \"partite2_name\": list_of_partite2,\n",
    "        \"partite1_total_count\": list_of_partite1_total_count,\n",
    "        \"partite2_total_count\": list_of_partite2_total_count,\n",
    "        \"sorted_counts_prefilter\": list_of_sorted_counts_prefilter\n",
    "        })\n",
    "\n",
    "    res_df.to_csv(output_dir / f\"Jaccard_Coefficient_table_PartiteNorm={norm_degrees_to_def_top_partites}_minParDeg={min_partite_deg}.csv\")\n"
   ]
  },
  {
   "cell_type": "markdown",
   "metadata": {},
   "source": [
    "plot the distribution of Jaccard coefficient"
   ]
  },
  {
   "cell_type": "code",
   "execution_count": 8,
   "metadata": {},
   "outputs": [
    {
     "data": {
      "image/png": "[encoded data removed]",
      "text/plain": [
       "<Figure size 640x480 with 2 Axes>"
      ]
     },
     "metadata": {},
     "output_type": "display_data"
    }
   ],
   "source": [
    "# Create grid layout\n",
    "gs = gridspec.GridSpec(2, 1, height_ratios=[5, 1])\n",
    "\n",
    "# Histogram\n",
    "ax0 = plt.subplot(gs[0])\n",
    "sns.histplot(res_df[\"Jaccard_Coefficient\"], ax=ax0, kde=False, bins = 75)\n",
    "ax0.set(xlabel=\"\")\n",
    "# turn off x tick labels\n",
    "ax0.set_xticklabels([])\n",
    "\n",
    "# Boxplot\n",
    "ax1 = plt.subplot(gs[1])\n",
    "sns.boxplot(\n",
    "    x=res_df[\"Jaccard_Coefficient\"], ax=ax1,\n",
    "    flierprops=dict(marker=\"o\", markeredgecolor=\"orange\", markerfacecolor=\"none\", markersize=6),\n",
    ")\n",
    "ax1.set(xlabel=\"Jaccaard Coefficient\")\n",
    "\n",
    "# Display the plot\n",
    "plt.show()"
   ]
  },
  {
   "cell_type": "code",
   "execution_count": 9,
   "metadata": {},
   "outputs": [
    {
     "name": "stdout",
     "output_type": "stream",
     "text": [
      "1.5 IQR upper bound cutoff for Jaccard Coefficient: 0.046\n"
     ]
    }
   ],
   "source": [
    "# display the cutoff\n",
    "def calculate_1_5_iqr_thresholds(numbers):\n",
    "    Q1 = np.percentile(numbers, 25)\n",
    "    Q3 = np.percentile(numbers, 75)\n",
    "    IQR = Q3 - Q1\n",
    "    lower_bound = Q1 - 1.5 * IQR\n",
    "    upper_bound = Q3 + 1.5 * IQR\n",
    "    return lower_bound, upper_bound\n",
    "\n",
    "print(\"1.5 IQR upper bound cutoff for Jaccard Coefficient:\", calculate_1_5_iqr_thresholds(res_df[\"Jaccard_Coefficient\"])[1])"
   ]
  },
  {
   "cell_type": "markdown",
   "metadata": {},
   "source": [
    "## Calculate cluster connections\n",
    "produces a csv file `[for_Cytoscape]cluster_connectivity.csv` to visualize as a graph in Cytoscape\n",
    "the csv files contains the following columns:\n",
    "- cluster1: source cluster\n",
    "- cluster2: target cluster\n",
    "- percent_possible_connections: percent of possible connections between the two clusters\n",
    "\n"
   ]
  },
  {
   "cell_type": "code",
   "execution_count": 10,
   "metadata": {},
   "outputs": [
    {
     "data": {
      "application/vnd.jupyter.widget-view+json": {
       "model_id": "95b228c718894dc2bdf0f7afb58755fd",
       "version_major": 2,
       "version_minor": 0
      },
      "text/plain": [
       "  0%|          | 0/210 [00:00<?, ?it/s]"
      ]
     },
     "metadata": {},
     "output_type": "display_data"
    }
   ],
   "source": [
    "# get the list of clusters\n",
    "list_of_clusters = sorted(adata.obs[annotation_to_use].unique().tolist())\n",
    "\n",
    "label_total_counts = dict(Counter(annot_df[annotation_to_use]))\n",
    "\n",
    "# for every possible pairs of clusters, compute the connectivity\n",
    "with open(output_dir / f\"[for_Cytoscape]cluster_connectivity.csv\", \"w\") as f:\n",
    "    f.write(\"cluster1,cluster2,percent_possible_connections\\n\")\n",
    "    for combo in tqdm(list(combinations(list_of_clusters, 2))):\n",
    "        c1 = combo[0]\n",
    "        c2 = combo[1]\n",
    "        c1toc2, c2toc1 = clusterwise_connection(\n",
    "            annot_df, res_df,\n",
    "            annot_col_name=annotation_to_use, gene_name_col=id_name,\n",
    "            cluster1_name=c1, cluster2_name=c2,\n",
    "            normalize_conn=False,\n",
    "            restrict_to_interfacial=False,\n",
    "            interfacial_proteins=None,\n",
    "        )\n",
    "\n",
    "        # this line computes the percentage of possible connections\n",
    "        perc_total_conn = (c1toc2 / (label_total_counts[c1] * 20) + c2toc1 / (label_total_counts[c2] * 20)) / 2\n",
    "        # print(f\"{c1toc2}\\t{c2toc1}\")\n",
    "        f.write(f\"{c1},{c2},{perc_total_conn}\\n\")"
   ]
  }
 ],
 "metadata": {
  "kernelspec": {
   "display_name": "orgIP",
   "language": "python",
   "name": "python3"
  },
  "language_info": {
   "codemirror_mode": {
    "name": "ipython",
    "version": 3
   },
   "file_extension": ".py",
   "mimetype": "text/x-python",
   "name": "python",
   "nbconvert_exporter": "python",
   "pygments_lexer": "ipython3",
   "version": "3.10.9"
  }
 },
 "nbformat": 4,
 "nbformat_minor": 2
}
