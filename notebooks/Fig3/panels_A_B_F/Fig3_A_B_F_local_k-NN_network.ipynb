{
 "cells": [
  {
   "cell_type": "markdown",
   "metadata": {},
   "source": [
    "## Fig. 3 panels A, B, F: local k-NN network\n",
    "Render a local protein neighborhood network graph centered on a query gene  \n",
    "- For panel A & B, set the query gene to \"WASHC5\"\n",
    "- For panel F top left, set the query gene to \"M6PR\"\n",
    "- For panel F bottom left, set the query gene to \"AP2B1\"\n",
    "- For panel F right, set the query gene to \"VPS11\""
   ]
  },
  {
   "cell_type": "code",
   "execution_count": 1,
   "metadata": {},
   "outputs": [],
   "source": [
    "import sys\n",
    "from pathlib import Path\n",
    "import anndata as ad\n",
    "import matplotlib.pyplot as plt\n",
    "import networkx as nx\n",
    "import pandas as pd\n",
    "import plotly.io as pio\n",
    "\n",
    "script_path = Path.cwd().parent.parent.parent / \"script\"\n",
    "sys.path.append(str(script_path))\n",
    "\n",
    "from utils.knn import *\n",
    "\n",
    "output_dir = Path.cwd() / \"output\"\n",
    "output_dir.mkdir(exist_ok=True)"
   ]
  },
  {
   "cell_type": "markdown",
   "metadata": {},
   "source": [
    "### Parameterize the graph"
   ]
  },
  {
   "cell_type": "code",
   "execution_count": 2,
   "metadata": {},
   "outputs": [],
   "source": [
    "gene = \"WASHC5\"\n",
    "\n",
    "get_2nd_order_neighbors = True  # show neighbor of neighbors\n",
    "keep_top_n = 20  # Limit connections per node to this number\n",
    "node_color_by = \"compartment\"  # two options: \"compartment\" or \"connections\"\n",
    "category_colors = [\n",
    "    \"#%02x%02x%02x\" % (int(r * 255), int(g * 255), int(b * 255))\n",
    "    for r, g, b in plt.get_cmap(\"tab10\").colors\n",
    "]  # color for each cluster, used when node_color_by = \"compartment\"\n",
    "# NOTE in the line above, 10 categorical colors (the tab10 collection) are used, you can specify tab20 if you have more than 10 clusters\n",
    "# you can also use a list of custom colors below:\n",
    "# category_colors = ['#1f77b4', '#ff7f0e', 'red', '#9467bd', '#9467bd', '#8c564b',]\n",
    "\n",
    "# NOTE\n",
    "# other parameters of the network graph such as 'node size', 'edge width' are near the end of this notebook"
   ]
  },
  {
   "cell_type": "markdown",
   "metadata": {},
   "source": [
    "### Load data"
   ]
  },
  {
   "cell_type": "code",
   "execution_count": 3,
   "metadata": {},
   "outputs": [
    {
     "name": "stdout",
     "output_type": "stream",
     "text": [
      "Timestamp: 2023-10-21-imp5-for-figures\n"
     ]
    }
   ],
   "source": [
    "%store -r timestamp\n",
    "print(f\"Timestamp: {timestamp}\")"
   ]
  },
  {
   "cell_type": "code",
   "execution_count": 4,
   "metadata": {},
   "outputs": [
    {
     "name": "stdout",
     "output_type": "stream",
     "text": [
      "AnnData object with n_obs × n_vars = 8541 × 61\n",
      "    obs: 'Protein IDs', 'Majority protein IDs', 'Gene_name_canonical', 'curated_ground_truth_v9.0', 'cluster_annotation', 'Graph-based_localization_annotation', 'consensus_graph_annnotation'\n",
      "    var: 'mean', 'std'\n",
      "    uns: 'neighbors'\n",
      "    obsp: 'connectivities', 'distances'\n"
     ]
    }
   ],
   "source": [
    "# load adata\n",
    "adata_path = Path.cwd().parent.parent / \"Fig2\" / \"panel_C\" / \"output\" / f\"adata_kNN_{timestamp}.h5ad\"\n",
    "\n",
    "try:\n",
    "    # load the file\n",
    "    adata = ad.read_h5ad(adata_path)\n",
    "except FileNotFoundError:\n",
    "    print(f\"File {adata_path} not found.\\nPlease run umap analysis first (fig2 panel C) or specify the correct timestamp, current value is {timestamp}\")\n",
    "except pd.errors.ParserError:\n",
    "    print(f\"There was an error parsing the CSV file at {adata_path}.\")\n",
    "except Exception as e:\n",
    "    print(f\"An unexpected error occurred: {e}\")\n",
    "\n",
    "# check data\n",
    "print(adata)  # 8541 x 61 for reference dataset, and 8017 x 28 for remodeling data"
   ]
  },
  {
   "cell_type": "code",
   "execution_count": 5,
   "metadata": {},
   "outputs": [],
   "source": [
    "# generate a dictionary to map gene name to annotation\n",
    "annot_dict = dict(zip(adata.obs[\"Gene_name_canonical\"].to_list(),\n",
    "                      adata.obs[\"consensus_graph_annnotation\"].to_list()))"
   ]
  },
  {
   "cell_type": "markdown",
   "metadata": {},
   "source": [
    "### Extract data for the local network graph"
   ]
  },
  {
   "cell_type": "code",
   "execution_count": 6,
   "metadata": {},
   "outputs": [],
   "source": [
    "# first-order gene neighbors\n",
    "nei_df = get_neighbors(adata, gene, keep_top_n=keep_top_n)\n",
    "\n",
    "graph_dict = {}\n",
    "for neighbor, conn_strength in nei_df.loc[gene].items():\n",
    "    graph_dict[frozenset([gene, neighbor])] = conn_strength\n",
    "\n",
    "# second-order gene neighbors\n",
    "if get_2nd_order_neighbors:\n",
    "    result = get_neighbors_of_neighbors(adata, nei_df.columns, keep_top_n=keep_top_n)\n",
    "    # update graph_dict to include 2nd order neighbors\n",
    "    graph_dict.update(result)\n",
    "\n",
    "# enforce top-n connections per node\n",
    "graph_dict = remove_extra_degrees(graph_dict, keep_top_n, query_gene=gene)\n",
    "\n",
    "# remove nodes that only have one connection,  by default, keep all 1st order neighbors\n",
    "graph_dict = prune_single_connection_nodes(graph_dict, keep_1st_order_neighbors=True, nei_df=nei_df, gene=gene)"
   ]
  },
  {
   "cell_type": "markdown",
   "metadata": {},
   "source": [
    "### Compute graph layout"
   ]
  },
  {
   "cell_type": "code",
   "execution_count": 7,
   "metadata": {},
   "outputs": [],
   "source": [
    "# construct a graph object in networkx and use the graph dictionary to add edges to the (empty) graph\n",
    "G = nx.Graph()\n",
    "for key, val in graph_dict.items():\n",
    "    if len(key) == 1:\n",
    "        continue\n",
    "    G.add_edge(list(key)[0], list(key)[1], weight=round(val, 2))"
   ]
  },
  {
   "cell_type": "code",
   "execution_count": 8,
   "metadata": {},
   "outputs": [],
   "source": [
    "pos = nx.spring_layout(G)  # Use spring_layout for layout\n",
    "# save the positions as node attributes\n",
    "for node, position in pos.items():\n",
    "    G.nodes[node]['pos'] = position"
   ]
  },
  {
   "cell_type": "markdown",
   "metadata": {},
   "source": [
    "### Render the graph as a plotly figure"
   ]
  },
  {
   "cell_type": "code",
   "execution_count": 9,
   "metadata": {},
   "outputs": [],
   "source": [
    "# convert the graph to node and edge \"traces\" that can be plotted by plotly\n",
    "node_trace, edge_trace, category_color_map = prepare_plotly_network_graph(G, annot_dict, node_color_by, category_colors)\n",
    "\n",
    "# add gene names as labels to the nodes\n",
    "node_names = list(G.nodes())\n",
    "node_trace.text = node_names\n",
    "node_trace.mode = 'markers+text'\n",
    "node_trace.textposition = 'top center'  # Adjust as needed ('top center', 'middle right', etc.)\n",
    "node_trace.textfont = dict(size=10)     # Adjust font size as needed\n",
    "\n",
    "\n",
    "fig = go.Figure(\n",
    "    data=[edge_trace, node_trace],\n",
    "    layout=go.Layout(\n",
    "        title=f\"Neighbor network graph of {gene}\",\n",
    "        titlefont_size=16,\n",
    "        height = 1000,\n",
    "        width = 1400,\n",
    "        hovermode=\"closest\",\n",
    "        margin=dict(b=20, l=5, r=5, t=40),\n",
    "        xaxis=dict(showgrid=False, zeroline=False, showticklabels=False),\n",
    "        yaxis=dict(showgrid=False, zeroline=False, showticklabels=False),\n",
    "    ),\n",
    ")\n",
    "\n",
    "if node_color_by == \"compartment\":  # this block of code adds the legend\n",
    "    for category, color in category_color_map.items():\n",
    "        fig.add_trace(\n",
    "            go.Scatter(\n",
    "                x=[None],\n",
    "                y=[None],\n",
    "                mode=\"markers\",\n",
    "                marker=dict(color=color, size=10),\n",
    "                name=category,\n",
    "                showlegend=True,\n",
    "            )\n",
    "        )\n",
    "\n",
    "\n",
    "# cutomize the figure\n",
    "\n",
    "# update node style\n",
    "fig.update_traces(marker=dict(size=25, line_width=1))  # line_width is the border width\n",
    "# update edge style\n",
    "edge_color = \"grey\"\n",
    "edge_alpha = 0.5\n",
    "fig.update_traces(line=dict(width=1.5, color=convert_color_to_rgba(edge_color, edge_alpha)))  # width is the edge width, color is the edge color\n",
    "\n",
    "# white background\n",
    "fig.update_layout(plot_bgcolor=\"white\")\n",
    "# uncomment the line below if you want to remove protein names from display\n",
    "# fig.data[1].update(mode=\"markers\")\n",
    "\n",
    "# save figure to file\n",
    "fig.write_html(output_dir / f\"{gene}_neighbor_graph.html\")\n",
    "pio.write_image(fig, output_dir / f\"{gene}_neighbor_graph.pdf\", format=\"pdf\")\n",
    "\n",
    "# display the figure\n",
    "fig.show()"
   ]
  }
 ],
 "metadata": {
  "kernelspec": {
   "display_name": "OrgIP_webapp",
   "language": "python",
   "name": "python3"
  },
  "language_info": {
   "codemirror_mode": {
    "name": "ipython",
    "version": 3
   },
   "file_extension": ".py",
   "mimetype": "text/x-python",
   "name": "python",
   "nbconvert_exporter": "python",
   "pygments_lexer": "ipython3",
   "version": "3.10.9"
  }
 },
 "nbformat": 4,
 "nbformat_minor": 2
}
