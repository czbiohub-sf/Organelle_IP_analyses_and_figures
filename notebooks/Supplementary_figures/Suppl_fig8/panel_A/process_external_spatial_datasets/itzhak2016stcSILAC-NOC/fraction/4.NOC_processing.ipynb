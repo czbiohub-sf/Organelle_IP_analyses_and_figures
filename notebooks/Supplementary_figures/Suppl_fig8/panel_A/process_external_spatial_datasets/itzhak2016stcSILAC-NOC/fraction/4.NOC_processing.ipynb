{
 "cells": [
  {
   "cell_type": "markdown",
   "metadata": {},
   "source": [
    "# NOC processing"
   ]
  },
  {
   "cell_type": "code",
   "execution_count": 5,
   "metadata": {},
   "outputs": [],
   "source": [
    "import os\n",
    "import sys\n",
    "from pathlib import Path\n",
    "import pandas as pd\n",
    "\n",
    "script_path = Path.cwd().parent.parent.parent.parent.parent.parent.parent / \"script\"\n",
    "data_path = Path.cwd().parent.parent.parent.parent.parent.parent.parent / \"data\"\n",
    "sys.path.append(str(script_path))"
   ]
  },
  {
   "cell_type": "markdown",
   "metadata": {},
   "source": [
    "### Load NOC table\n"
   ]
  },
  {
   "cell_type": "code",
   "execution_count": 6,
   "metadata": {},
   "outputs": [
    {
     "name": "stdout",
     "output_type": "stream",
     "text": [
      "Timestamp: 2024-07-16\n"
     ]
    }
   ],
   "source": [
    "#%store -r timestamp\n",
    "timestamp = \"2024-07-16\"\n",
    "\n",
    "print(f\"Timestamp: {timestamp}\")\n",
    "\n",
    "outprefix = f\"{timestamp}_QC_filter_impute\"\n",
    "\n",
    "outdir = Path.cwd() / \"output\"\n",
    "preprocessing_out = outdir / f\"preprocessing\"\n",
    "NOC_path = data_path / \"external\" / f\"elife-16950-supp9-v3.xlsx\"\n",
    "\n",
    "try:\n",
    "    cyt_table = pd.read_excel(NOC_path, sheet_name=\"LFQ Static Cyt\")\n",
    "    nuc_table = pd.read_excel(NOC_path, sheet_name=\"LFQ Static Nuc\")\n",
    "    org_table = pd.read_excel(NOC_path, sheet_name=\"LFQ Static Org\")\n",
    "except FileNotFoundError:\n",
    "    print(f\"File {NOC_path} not found.\\nPlease rerun the previous steps or specify the correct timestamp, current value is {timestamp}\")\n",
    "except pd.errors.ParserError:\n",
    "    print(f\"There was an error parsing the CSV file at {NOC_path}.\")\n",
    "except Exception as e:\n",
    "    print(f\"An unexpected error occurred: {e}\")"
   ]
  },
  {
   "cell_type": "markdown",
   "metadata": {},
   "source": [
    "### Load fraction table"
   ]
  },
  {
   "cell_type": "code",
   "execution_count": 7,
   "metadata": {},
   "outputs": [],
   "source": [
    "enrich_out_dir = outdir / \"fraction_tables\"\n",
    "os.makedirs(enrich_out_dir, exist_ok=True)\n",
    "\n",
    "fraction_csv_path = enrich_out_dir / f\"{timestamp}_fraction_table.csv\"\n",
    "\n",
    "final_fraction_table = pd.read_csv(fraction_csv_path, header=[0, 1], index_col=0)\n"
   ]
  },
  {
   "cell_type": "markdown",
   "metadata": {},
   "source": [
    "### Calculation of proportion"
   ]
  },
  {
   "cell_type": "code",
   "execution_count": 8,
   "metadata": {},
   "outputs": [],
   "source": [
    "# compute median of 6 MAPS\n",
    "cyt_table[\"median LFQ intensity cytosolic\"] = cyt_table.iloc[:, 4:10].median(axis=1)\n",
    "nuc_table[\"median LFQ intensity nuclear\"] = nuc_table.iloc[:, 4:10].median(axis=1)\n",
    "org_table[\"median LFQ intensity organelle\"] = org_table.iloc[:, 4:10].median(axis=1)"
   ]
  },
  {
   "cell_type": "code",
   "execution_count": 9,
   "metadata": {},
   "outputs": [],
   "source": [
    "def compute_proportion(row):\n",
    "    uniprot_id = row[(\"metadata\", \"Unnamed: 0\")]\n",
    "    if not uniprot_id in list(cyt_table[\"Lead IDs\"]):\n",
    "        cyt_intensity = 0\n",
    "    else:\n",
    "        cyt_intensity = cyt_table.loc[cyt_table[\"Lead IDs\"] == uniprot_id, \"median LFQ intensity cytosolic\"].values[0]\n",
    "    if not uniprot_id in list(nuc_table[\"Lead ID\"]):\n",
    "        nuc_intensity = 0\n",
    "    else:\n",
    "        nuc_intensity = nuc_table.loc[nuc_table[\"Lead ID\"] == uniprot_id, \"median LFQ intensity nuclear\"].values[0]\n",
    "    if not uniprot_id in list(org_table[\"Lead ID\"]):\n",
    "        org_intensity = 0\n",
    "    else:\n",
    "        org_intensity = org_table.loc[org_table[\"Lead ID\"] == uniprot_id, \"median LFQ intensity organelle\"].values[0]\n",
    "    total_intensity = cyt_intensity + nuc_intensity + org_intensity\n",
    "    return nuc_intensity/total_intensity, org_intensity/total_intensity, cyt_intensity/total_intensity"
   ]
  },
  {
   "cell_type": "code",
   "execution_count": 10,
   "metadata": {},
   "outputs": [],
   "source": [
    "final_fraction_table[[(\"sample\",\"NOC_nuclear\"), (\"sample\",\"NOC_organelle\"), (\"sample\",\"NOC_cytosol\")]] = final_fraction_table.apply(lambda row: pd.Series(compute_proportion(row)), axis=1)\n",
    "\n",
    "# rename\n",
    "final_fraction_table = final_fraction_table.rename(columns={(\"metadata\",\"Unnamed: 0\"): (\"metadata\",\"uniprot_id\")})\n",
    "\n",
    "final_fraction_table.columns = pd.MultiIndex.from_tuples(\n",
    "    [(upper, lower.replace('Unnamed: 0', 'Protein IDs')) for upper, lower in final_fraction_table.columns]\n",
    ")"
   ]
  },
  {
   "cell_type": "code",
   "execution_count": 11,
   "metadata": {},
   "outputs": [],
   "source": [
    "# remove proteins where the sum of all NOC fractions is 0\n",
    "final_fraction_table = final_fraction_table[final_fraction_table[(\"sample\",\"NOC_nuclear\")] + final_fraction_table[(\"sample\",\"NOC_organelle\")] + final_fraction_table[(\"sample\",\"NOC_cytosol\")] > 0]"
   ]
  },
  {
   "cell_type": "code",
   "execution_count": 12,
   "metadata": {},
   "outputs": [
    {
     "data": {
      "text/html": [
       "<div>\n",
       "<style scoped>\n",
       "    .dataframe tbody tr th:only-of-type {\n",
       "        vertical-align: middle;\n",
       "    }\n",
       "\n",
       "    .dataframe tbody tr th {\n",
       "        vertical-align: top;\n",
       "    }\n",
       "\n",
       "    .dataframe thead tr th {\n",
       "        text-align: left;\n",
       "    }\n",
       "</style>\n",
       "<table border=\"1\" class=\"dataframe\">\n",
       "  <thead>\n",
       "    <tr>\n",
       "      <th></th>\n",
       "      <th>metadata</th>\n",
       "      <th colspan=\"8\" halign=\"left\">sample</th>\n",
       "    </tr>\n",
       "    <tr>\n",
       "      <th></th>\n",
       "      <th>Protein IDs</th>\n",
       "      <th>03K</th>\n",
       "      <th>06K</th>\n",
       "      <th>12K</th>\n",
       "      <th>24K</th>\n",
       "      <th>80K</th>\n",
       "      <th>NOC_nuclear</th>\n",
       "      <th>NOC_organelle</th>\n",
       "      <th>NOC_cytosol</th>\n",
       "    </tr>\n",
       "  </thead>\n",
       "  <tbody>\n",
       "    <tr>\n",
       "      <th>0</th>\n",
       "      <td>Q9NRG9</td>\n",
       "      <td>0.120000</td>\n",
       "      <td>-0.624683</td>\n",
       "      <td>-0.398767</td>\n",
       "      <td>0.571433</td>\n",
       "      <td>1.538233</td>\n",
       "      <td>0.547935</td>\n",
       "      <td>0.443235</td>\n",
       "      <td>0.008831</td>\n",
       "    </tr>\n",
       "    <tr>\n",
       "      <th>1</th>\n",
       "      <td>Q2M2I8</td>\n",
       "      <td>-0.281217</td>\n",
       "      <td>0.188500</td>\n",
       "      <td>-0.149583</td>\n",
       "      <td>-0.492483</td>\n",
       "      <td>-0.693417</td>\n",
       "      <td>0.186118</td>\n",
       "      <td>0.414969</td>\n",
       "      <td>0.398914</td>\n",
       "    </tr>\n",
       "    <tr>\n",
       "      <th>2</th>\n",
       "      <td>Q13685</td>\n",
       "      <td>-1.738557</td>\n",
       "      <td>-1.332183</td>\n",
       "      <td>-2.056200</td>\n",
       "      <td>-2.026821</td>\n",
       "      <td>-1.672267</td>\n",
       "      <td>0.033859</td>\n",
       "      <td>0.027504</td>\n",
       "      <td>0.938638</td>\n",
       "    </tr>\n",
       "    <tr>\n",
       "      <th>3</th>\n",
       "      <td>P49588</td>\n",
       "      <td>-1.020700</td>\n",
       "      <td>-0.868417</td>\n",
       "      <td>-1.445783</td>\n",
       "      <td>-1.402567</td>\n",
       "      <td>-0.873433</td>\n",
       "      <td>0.051564</td>\n",
       "      <td>0.047146</td>\n",
       "      <td>0.901290</td>\n",
       "    </tr>\n",
       "    <tr>\n",
       "      <th>4</th>\n",
       "      <td>Q5JTZ9</td>\n",
       "      <td>-1.180700</td>\n",
       "      <td>-0.643750</td>\n",
       "      <td>3.548467</td>\n",
       "      <td>3.283900</td>\n",
       "      <td>4.336467</td>\n",
       "      <td>0.240722</td>\n",
       "      <td>0.757053</td>\n",
       "      <td>0.002225</td>\n",
       "    </tr>\n",
       "    <tr>\n",
       "      <th>...</th>\n",
       "      <td>...</td>\n",
       "      <td>...</td>\n",
       "      <td>...</td>\n",
       "      <td>...</td>\n",
       "      <td>...</td>\n",
       "      <td>...</td>\n",
       "      <td>...</td>\n",
       "      <td>...</td>\n",
       "      <td>...</td>\n",
       "    </tr>\n",
       "    <tr>\n",
       "      <th>4923</th>\n",
       "      <td>Q9NWK9</td>\n",
       "      <td>-1.347828</td>\n",
       "      <td>-0.980580</td>\n",
       "      <td>-1.817261</td>\n",
       "      <td>-1.845244</td>\n",
       "      <td>-2.083272</td>\n",
       "      <td>0.324373</td>\n",
       "      <td>0.090242</td>\n",
       "      <td>0.585385</td>\n",
       "    </tr>\n",
       "    <tr>\n",
       "      <th>4924</th>\n",
       "      <td>Q8NHG8</td>\n",
       "      <td>-0.930238</td>\n",
       "      <td>-1.118053</td>\n",
       "      <td>-1.059400</td>\n",
       "      <td>-0.709979</td>\n",
       "      <td>-0.711571</td>\n",
       "      <td>0.025922</td>\n",
       "      <td>0.385171</td>\n",
       "      <td>0.588907</td>\n",
       "    </tr>\n",
       "    <tr>\n",
       "      <th>4925</th>\n",
       "      <td>O95218</td>\n",
       "      <td>-1.124483</td>\n",
       "      <td>-0.924583</td>\n",
       "      <td>-1.733533</td>\n",
       "      <td>-1.705583</td>\n",
       "      <td>-1.195067</td>\n",
       "      <td>0.157405</td>\n",
       "      <td>0.159210</td>\n",
       "      <td>0.683386</td>\n",
       "    </tr>\n",
       "    <tr>\n",
       "      <th>4926</th>\n",
       "      <td>O43264</td>\n",
       "      <td>0.274350</td>\n",
       "      <td>-0.622217</td>\n",
       "      <td>-0.613917</td>\n",
       "      <td>0.441200</td>\n",
       "      <td>1.235767</td>\n",
       "      <td>0.069885</td>\n",
       "      <td>0.273558</td>\n",
       "      <td>0.656557</td>\n",
       "    </tr>\n",
       "    <tr>\n",
       "      <th>4927</th>\n",
       "      <td>Q15942</td>\n",
       "      <td>-1.322333</td>\n",
       "      <td>-0.558300</td>\n",
       "      <td>0.107133</td>\n",
       "      <td>0.730050</td>\n",
       "      <td>1.309400</td>\n",
       "      <td>0.240959</td>\n",
       "      <td>0.153465</td>\n",
       "      <td>0.605577</td>\n",
       "    </tr>\n",
       "  </tbody>\n",
       "</table>\n",
       "<p>4928 rows × 9 columns</p>\n",
       "</div>"
      ],
      "text/plain": [
       "        metadata    sample                                          \\\n",
       "     Protein IDs       03K       06K       12K       24K       80K   \n",
       "0         Q9NRG9  0.120000 -0.624683 -0.398767  0.571433  1.538233   \n",
       "1         Q2M2I8 -0.281217  0.188500 -0.149583 -0.492483 -0.693417   \n",
       "2         Q13685 -1.738557 -1.332183 -2.056200 -2.026821 -1.672267   \n",
       "3         P49588 -1.020700 -0.868417 -1.445783 -1.402567 -0.873433   \n",
       "4         Q5JTZ9 -1.180700 -0.643750  3.548467  3.283900  4.336467   \n",
       "...          ...       ...       ...       ...       ...       ...   \n",
       "4923      Q9NWK9 -1.347828 -0.980580 -1.817261 -1.845244 -2.083272   \n",
       "4924      Q8NHG8 -0.930238 -1.118053 -1.059400 -0.709979 -0.711571   \n",
       "4925      O95218 -1.124483 -0.924583 -1.733533 -1.705583 -1.195067   \n",
       "4926      O43264  0.274350 -0.622217 -0.613917  0.441200  1.235767   \n",
       "4927      Q15942 -1.322333 -0.558300  0.107133  0.730050  1.309400   \n",
       "\n",
       "                                            \n",
       "     NOC_nuclear NOC_organelle NOC_cytosol  \n",
       "0       0.547935      0.443235    0.008831  \n",
       "1       0.186118      0.414969    0.398914  \n",
       "2       0.033859      0.027504    0.938638  \n",
       "3       0.051564      0.047146    0.901290  \n",
       "4       0.240722      0.757053    0.002225  \n",
       "...          ...           ...         ...  \n",
       "4923    0.324373      0.090242    0.585385  \n",
       "4924    0.025922      0.385171    0.588907  \n",
       "4925    0.157405      0.159210    0.683386  \n",
       "4926    0.069885      0.273558    0.656557  \n",
       "4927    0.240959      0.153465    0.605577  \n",
       "\n",
       "[4928 rows x 9 columns]"
      ]
     },
     "execution_count": 12,
     "metadata": {},
     "output_type": "execute_result"
    }
   ],
   "source": [
    "final_fraction_table"
   ]
  },
  {
   "cell_type": "markdown",
   "metadata": {},
   "source": [
    "### save to file"
   ]
  },
  {
   "cell_type": "code",
   "execution_count": 13,
   "metadata": {},
   "outputs": [],
   "source": [
    "# saving the final tables to files\n",
    "enrich_out_dir = outdir / \"fraction_tables\"\n",
    "os.makedirs(enrich_out_dir, exist_ok=True)\n",
    "\n",
    "save_csv_path = enrich_out_dir / f\"{timestamp}_fraction_table_NOC.csv\"\n",
    "\n",
    "final_fraction_table.to_csv(save_csv_path)"
   ]
  }
 ],
 "metadata": {
  "kernelspec": {
   "display_name": "orgIP",
   "language": "python",
   "name": "python3"
  },
  "language_info": {
   "codemirror_mode": {
    "name": "ipython",
    "version": 3
   },
   "file_extension": ".py",
   "mimetype": "text/x-python",
   "name": "python",
   "nbconvert_exporter": "python",
   "pygments_lexer": "ipython3",
   "version": "3.10.9"
  },
  "orig_nbformat": 4
 },
 "nbformat": 4,
 "nbformat_minor": 2
}
