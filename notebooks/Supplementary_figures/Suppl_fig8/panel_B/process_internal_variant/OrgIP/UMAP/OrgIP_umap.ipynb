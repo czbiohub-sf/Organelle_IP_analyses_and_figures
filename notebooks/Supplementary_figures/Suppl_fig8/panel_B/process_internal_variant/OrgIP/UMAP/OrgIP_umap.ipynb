{
 "cells": [
  {
   "cell_type": "markdown",
   "metadata": {},
   "source": [
    "## compute umap coordinates for Organelle IP (bootstrapping)\n",
    "This notebook calculates 2D and 3D UMAP embeddings and generate plots"
   ]
  },
  {
   "cell_type": "code",
   "execution_count": 14,
   "metadata": {},
   "outputs": [],
   "source": [
    "import os, sys, random, shutil\n",
    "from pathlib import Path\n",
    "import matplotlib.pyplot as plt\n",
    "import pandas as pd\n",
    "import umap\n",
    "\n",
    "plt.style.use('ggplot')\n",
    "plt.rcParams['pdf.fonttype'] = 42\n",
    "\n",
    "script_path = Path.cwd().parent.parent.parent.parent.parent.parent.parent / \"script\"\n",
    "data_path = Path.cwd().parent.parent.parent.parent.parent.parent.parent / \"data\"\n",
    "sys.path.append(str(script_path))\n",
    "from pyseus.plotting import plotly_umap as pu\n",
    "\n",
    "save_path = Path.cwd() / \"output\"\n",
    "if not os.path.exists(save_path):\n",
    "    os.makedirs(save_path)"
   ]
  },
  {
   "cell_type": "markdown",
   "metadata": {},
   "source": [
    "### load data"
   ]
  },
  {
   "cell_type": "code",
   "execution_count": 15,
   "metadata": {},
   "outputs": [
    {
     "name": "stdout",
     "output_type": "stream",
     "text": [
      "Timestamp: 2023-10-21-imp5-for-figures\n"
     ]
    }
   ],
   "source": [
    "#%store -r timestamp\n",
    "timestamp = \"2023-10-21-imp5-for-figures\"\n",
    "print(f\"Timestamp: {timestamp}\") "
   ]
  },
  {
   "cell_type": "code",
   "execution_count": 16,
   "metadata": {},
   "outputs": [],
   "source": [
    "# define files to load\n",
    "input_dir = Path.cwd().parent.parent.parent.parent.parent.parent / \"Fig2\" / \"panel_C\" / \"output\"\n",
    "umap_table_path = input_dir / f\"{timestamp}_umap_table.csv\"\n",
    "quants_path = input_dir / f\"{timestamp}_quants.csv\"\n",
    "\n",
    "# load data\n",
    "try:\n",
    "    # load the file\n",
    "    umap_table = pd.read_csv(umap_table_path, index_col=0)\n",
    "except FileNotFoundError:\n",
    "    print(f\"File {umap_table_path} not found.\\nPlease run Fig2_C_consensus_annotation.ipynb first or specify the correct timestamp, current value is {timestamp}\")\n",
    "except pd.errors.ParserError:\n",
    "    print(f\"There was an error parsing the CSV file at {umap_table_path}.\")\n",
    "except Exception as e:\n",
    "    print(f\"An unexpected error occurred: {e}\")\n",
    "\n",
    "try:\n",
    "    # load the file\n",
    "    quants = pd.read_csv(quants_path, index_col=0)\n",
    "except FileNotFoundError:\n",
    "    print(f\"File {quants_path} not found.\\nPlease run Fig2_C_consensus_annotation.ipynb first or specify the correct timestamp, current value is {timestamp}\")\n",
    "except pd.errors.ParserError:\n",
    "    print(f\"There was an error parsing the CSV file at {quants_path}.\")\n",
    "except Exception as e:\n",
    "    print(f\"An unexpected error occurred: {e}\")"
   ]
  },
  {
   "cell_type": "markdown",
   "metadata": {},
   "source": [
    "### preprocessing"
   ]
  },
  {
   "cell_type": "code",
   "execution_count": 17,
   "metadata": {},
   "outputs": [],
   "source": [
    "# scale the table\n",
    "scaled = pu.scale_table(matrix=quants, method='standard')"
   ]
  },
  {
   "cell_type": "markdown",
   "metadata": {},
   "source": [
    "### compute UMAPs with different seeds and save to file"
   ]
  },
  {
   "cell_type": "code",
   "execution_count": 18,
   "metadata": {},
   "outputs": [],
   "source": [
    "# shutil.rmtree(save_path / \"bootstraps\")\n",
    "os.makedirs(save_path / \"bootstraps\", exist_ok=True)\n",
    "\n",
    "\n",
    "n_bootstraps = 10\n",
    "n_neighbors = 20\n",
    "min_dist = 0.1\n",
    "metric = 'euclidean'\n",
    "\n",
    "# flip the umap coordinates (some times the UMAP algorithm flips the coordinates)\n",
    "flip = True\n",
    "\n",
    "for _ in range(n_bootstraps):\n",
    "    UMAP_seed = random.randint(0, 10000)\n",
    "    # calculate 2D UMAP embeddings\n",
    "    fit = umap.UMAP(\n",
    "        n_neighbors=n_neighbors, \n",
    "        min_dist=min_dist, \n",
    "        metric=metric, \n",
    "        random_state=UMAP_seed\n",
    "    )\n",
    "    u = fit.fit_transform(scaled)\n",
    "    umap_table['umap_1'] = u[:, 0] \n",
    "    umap_table['umap_2'] = u[:, 1]\n",
    "\n",
    "    # flip the UMAP coordinates\n",
    "    if flip:\n",
    "        max_x = max(umap_table[\"umap_1\"])\n",
    "        max_y = max(umap_table[\"umap_2\"])\n",
    "        umap_table[\"umap_1\"] = max_x - umap_table[\"umap_1\"]\n",
    "        umap_table[\"umap_2\"] = max_y - umap_table[\"umap_2\"]\n",
    "    \n",
    "    # save umap embedding to csv file\n",
    "    save_name = f\"{timestamp}_UMAP_embeddings_seed={UMAP_seed}.csv\"\n",
    "    umap_table.to_csv(os.path.join(save_path / \"bootstraps\", save_name), index=False)"
   ]
  }
 ],
 "metadata": {
  "kernelspec": {
   "display_name": "orgIP",
   "language": "python",
   "name": "python3"
  },
  "language_info": {
   "codemirror_mode": {
    "name": "ipython",
    "version": 3
   },
   "file_extension": ".py",
   "mimetype": "text/x-python",
   "name": "python",
   "nbconvert_exporter": "python",
   "pygments_lexer": "ipython3",
   "version": "3.10.9"
  },
  "orig_nbformat": 4
 },
 "nbformat": 4,
 "nbformat_minor": 2
}
