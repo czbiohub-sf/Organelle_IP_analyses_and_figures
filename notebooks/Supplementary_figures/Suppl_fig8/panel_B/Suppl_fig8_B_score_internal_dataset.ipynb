{
 "cells": [
  {
   "cell_type": "markdown",
   "metadata": {},
   "source": [
    "## Suppl. Fig. 8 panel B Clustering score (internal datasets)\n",
    "\n",
    "[NOTE]: before running this notebook, please run `Suppl_fig8_B_score_external_dataset.ipynb`\n",
    "\n",
    "This notebook scores UMAPs using two sets of ground truth: corum complexes and organelle residient proteins.  \n",
    "For each dataset, scores are computed for each UMAP (bootstrap). The mean score and SEM of estimating the mean are plotted.\n",
    "The parameters are set to be \"optimal\" values and close to what we likely use for the final plot.  \n",
    "Please note that changing the parameters may cause the run to halt at the check-parameter cell, this is to notify that a non-optimal parameter is selected. you can simply skip that cell to continue  "
   ]
  },
  {
   "cell_type": "code",
   "execution_count": 31,
   "metadata": {},
   "outputs": [],
   "source": [
    "import os, sys, re, statistics\n",
    "from pathlib import Path\n",
    "import pandas as pd\n",
    "from collections import defaultdict, Counter\n",
    "import numpy as np\n",
    "import matplotlib.pyplot as plt\n",
    "import matplotlib.colors as mcolors\n",
    "from tqdm.notebook import tqdm\n",
    "from sklearn.metrics import silhouette_score, davies_bouldin_score, calinski_harabasz_score\n",
    "import seaborn as sns\n",
    "\n",
    "script_path = Path.cwd().parent.parent.parent.parent / \"script\"\n",
    "data_path = Path.cwd().parent.parent.parent.parent / \"data\"\n",
    "sys.path.append(str(script_path))\n",
    "\n",
    "from external import clustering_workflows\n",
    "plt.rcParams['pdf.fonttype'] = 42\n",
    "\n",
    "outdir = Path.cwd() / \"output\" \n",
    "outdir.mkdir(exist_ok=True)"
   ]
  },
  {
   "cell_type": "markdown",
   "metadata": {},
   "source": [
    "### parameters"
   ]
  },
  {
   "cell_type": "code",
   "execution_count": 32,
   "metadata": {},
   "outputs": [],
   "source": [
    "score_algo = \"calinski_harabasz\" # possible values: \"calinski_harabasz\", \"silhouette\" or \"davies_bouldin\" \n",
    "\n",
    "# global parameters\n",
    "use_full_dataset = False                  # True = use full dataset, False = use intersect\n",
    "use_custome_intersect = True              # True = use custom intersect, False = use default intersect\n",
    "verbose = False\n",
    "\n",
    "# parameterization for ground truth\n",
    "# corum\n",
    "use_corum = True                          # True = use corum complex, False = use OpenCell complex\n",
    "min_complex_labels = 5                    # filter out complex if it has less than this number of labels in the scoring set\n",
    "# organelle\n",
    "rm_nuc_pore = True                        # True = remove nuclear pore complexes, False = keep nuclear pore complexes\n",
    "membrane_bound_organelle_only = False     # True = only use membrane-bound organelles, False = use all organelles\n",
    "membraneless_only = False                  # True = only use membraneless organelles, False = use all organelles\n",
    "membrane_bound_organelles = ['mitochondria', 'early_endosome', 'ER' , 'plasma membrane', 'peroxisome', 'lysosome', 'ERGIC', 'Golgi'] # only used if membrane_bound_organelle_only is True, not including nucleus\n",
    "membraneless_organelles = ['centrosome', 'cytosol', 'nucleus', 'p-body', 'stress granule'] # only used if membraneless_only is True, not including actin-binding_protein and ribosome\n",
    "# organelle class balancing (only active for calinski_harabasz)\n",
    "balance_org_ground_truth = True           # only active if set to True and selected calinski_harabasz scoring algorithm\n",
    "min_class_size_multiplier = 1             # minimum size of class as a fraction of the largest class size\n",
    "difference_multiplier = 0                 # minimum difference between class sizes as a fraction of the largest class size\n",
    "nbootstrap = 200\n"
   ]
  },
  {
   "cell_type": "markdown",
   "metadata": {},
   "source": [
    "### datasets"
   ]
  },
  {
   "cell_type": "code",
   "execution_count": 33,
   "metadata": {},
   "outputs": [],
   "source": [
    "# internal \n",
    "dataset_dirs = [\"OrgIP\", \"OrgIP-one-IP-per-compartment\"]\n",
    "\n",
    "# dataset names to show in the plot\n",
    "# this is a mapping from Duo's version of the dataset name to the name that should be shown in the plot\n",
    "dataset_name_mapping = {\n",
    "    \"OrgIP\": \"this study\", \n",
    "    \"OrgIP-one-IP-per-compartment\": \"this study (one IP per compartment)\",\n",
    "}"
   ]
  },
  {
   "cell_type": "markdown",
   "metadata": {},
   "source": [
    "### check parameters\n",
    "this section will halt the run if the parameters are not optimal/default (for example, if using membrane-only ground truth for scoring)  \n",
    "you can by-pass this cell and \"Run All Below\""
   ]
  },
  {
   "cell_type": "code",
   "execution_count": 34,
   "metadata": {},
   "outputs": [],
   "source": [
    "class NonOptimumParameterError(ValueError):\n",
    "    pass\n",
    "\n",
    "if use_full_dataset:\n",
    "    raise NonOptimumParameterError(\"non optimum/default parameter: using full dataset\")\n",
    "if not use_corum:\n",
    "    raise NonOptimumParameterError(\"non optimum/default parameter: not using corum complex\")\n",
    "if min_complex_labels == 0:\n",
    "    raise NonOptimumParameterError(\"non optimum/default parameter: no filter for min_complex_labels\")\n",
    "if not rm_nuc_pore:\n",
    "    raise NonOptimumParameterError(\"non optimum/default parameter: not removing nuclear pore complexes\")\n",
    "if not balance_org_ground_truth:\n",
    "    raise NonOptimumParameterError(\"non optimum/default parameter: not balancing organelle classes\")\n",
    "if nbootstrap == 0:\n",
    "    raise NonOptimumParameterError(\"non optimum/default parameter: not bootstrapping the score computation\")\n",
    "if score_algo == \"duo\" and not exhaustive_inter_pairs:\n",
    "    raise NonOptimumParameterError(\"non optimum/default parameter: using duo score with sampling inter pairs\")\n",
    "if score_algo == \"duo\" and mean:\n",
    "    raise NonOptimumParameterError(\"non optimum/default parameter: using duo score with mean\")\n",
    "if membrane_bound_organelle_only and membraneless_only:\n",
    "    raise ValueError(\"both membrane_bound_organelle_only and membraneless_only are True\")\n",
    "if membrane_bound_organelle_only:\n",
    "    raise NonOptimumParameterError(\"non optimum/default parameter: only using membrane-bound organelles\")\n",
    "if membraneless_only:\n",
    "    raise NonOptimumParameterError(\"non optimum/default parameter: only using membraneless organelles\")"
   ]
  },
  {
   "cell_type": "markdown",
   "metadata": {},
   "source": [
    "### helper functions"
   ]
  },
  {
   "cell_type": "code",
   "execution_count": 35,
   "metadata": {},
   "outputs": [],
   "source": [
    "# helper function\n",
    "def translate_and_count(row, translation_dict):\n",
    "    # split the semicolon-separated values\n",
    "    values = row.split(';')\n",
    "    translated_values = []\n",
    "\n",
    "    for value in values:\n",
    "        # attempt to translate the value directly\n",
    "        translation = translation_dict.get(value)\n",
    "        if translation is None:\n",
    "            # if direct translation fails, try removing contents after a hyphen and translate again\n",
    "            value_base = value.split('-')[0]\n",
    "            translation = translation_dict.get(value_base, value_base)\n",
    "        translated_values.append(translation)\n",
    "\n",
    "    # count the translations\n",
    "    translation_counts = Counter(translated_values)\n",
    "    # find the highest count\n",
    "    max_count = max(translation_counts.values())\n",
    "    # find all translations with the highest count\n",
    "    most_common_translations = [k for k, v in translation_counts.items() if v == max_count]\n",
    "    # choose the shortest translation in case of ties\n",
    "    most_common_translation = min(most_common_translations, key=len)\n",
    "    \n",
    "    return most_common_translation\n",
    "\n",
    "def calinski_harabasz_score_wrapper(df, gt, k, n_bootstraps=nbootstrap, verbose=False, mean=False):\n",
    "    ''' balance the ground truth data, and bootstrap the calinski_harabasz_score\n",
    "        input: a df in datasets\n",
    "        gt: ground truth data\n",
    "        n_bootstraps: number of bootstraps\n",
    "        verbose: print the progress\n",
    "        mean: True = mean, False = median\n",
    "    '''\n",
    "    import warnings\n",
    "    # suppress the specific DeprecationWarning\n",
    "    warnings.filterwarnings(\"ignore\", category=DeprecationWarning, message=\".*DataFrameGroupBy.apply operated on the grouping columns.*\")\n",
    "\n",
    "    gt_scores = []\n",
    "    for i in range(n_bootstraps):\n",
    "        # balance the ground truth data\n",
    "        groups = gt.groupby('compartment')\n",
    "        # determine the size of the smallest group\n",
    "        min_size = min(groups.size())\n",
    "        # calculate the threshold for undersampling (10% more than the minimum size)\n",
    "        threshold_size = min_size * min_class_size_multiplier\n",
    "        # perform conditional undersampling\n",
    "        def undersample_or_not(group):\n",
    "            if len(group) > threshold_size:\n",
    "                return group.sample(int(threshold_size + (len(group) - min_size)*difference_multiplier))\n",
    "            else:\n",
    "                return group\n",
    "        balanced_gt = groups.apply(undersample_or_not).reset_index(drop=True)\n",
    "\n",
    "        # compute ground truth score\n",
    "        merged = df.merge(balanced_gt, left_on = \"Gene_name_for_scoring\", right_on = \"gene_name_canonical\", how = \"left\").drop_duplicates()\n",
    "        merged = merged.dropna(subset=['compartment'])\n",
    "        map_data = merged[['umap_1', 'umap_2']].to_numpy()\n",
    "        # convert organelle names to integers\n",
    "        unique_strings = list(set(merged['compartment'])) \n",
    "        str_to_int_mapping = {string: index for index, string in enumerate(unique_strings)} # Create a mapping from strings to unique integers\n",
    "        \n",
    "        org_label_data = [str_to_int_mapping[s] if not pd.isna(s) else s for s in merged['compartment']] # Convert the list of strings to a list of integers\n",
    "        org_label_data = np.array(org_label_data)\n",
    "\n",
    "        if score_algo == \"calinski_harabasz\":\n",
    "            gt_score = calinski_harabasz_score(map_data, org_label_data)\n",
    "        else:\n",
    "            raise ValueError(f\"score_algo {score_algo} is not implemented in calinski_harabasz_score_wrapper\")\n",
    "        gt_scores.append(gt_score)\n",
    "    if mean:\n",
    "        return statistics.mean(gt_scores)\n",
    "    else:\n",
    "        return statistics.median(gt_scores)"
   ]
  },
  {
   "cell_type": "markdown",
   "metadata": {},
   "source": [
    "### load datasets"
   ]
  },
  {
   "cell_type": "code",
   "execution_count": 36,
   "metadata": {},
   "outputs": [],
   "source": [
    "datasets = defaultdict(list) # store datasets in a dictionary, key is the dataset name, value is a list of dataframes\n",
    "\n",
    "for d in dataset_dirs:\n",
    "    p_ext = Path().cwd().parent / \"panel_A\" / \"output\" / d # read external UMAPs from the central location for external umaps (note that the external_datasets folder has dispersed UMAPs, and we have retired them)\n",
    "    p_int = Path().cwd() /  \"process_internal_variant\" / d # read internal UMAPs from the internal_dataset folder (the only copy of internal UMAPs)\n",
    "    if os.path.exists(p_ext):\n",
    "        p = p_ext\n",
    "        p1 = p / \"UMAP\" / \"bootstraps\"\n",
    "    elif os.path.exists(p_int):\n",
    "        p = p_int\n",
    "        p1 = p / \"UMAP\" / \"output\" / \"bootstraps\"\n",
    "    else:\n",
    "        raise ValueError(f\"can't find {d} in {p_ext} or {p_int}\")\n",
    "\n",
    "    if os.path.exists(p1):\n",
    "        for f in p1.iterdir():\n",
    "            dat_path = p1 / f\n",
    "            if dat_path.is_file() and f.suffix == \".csv\":\n",
    "                datasets[d].append(pd.read_csv(f))\n",
    "    else:\n",
    "        print(f\"failed to open {p1} for {d}\")"
   ]
  },
  {
   "cell_type": "code",
   "execution_count": 37,
   "metadata": {},
   "outputs": [
    {
     "name": "stdout",
     "output_type": "stream",
     "text": [
      "['actin-binding_protein' 'centrosome' 'cytosol' 'early_endosome' 'ER'\n",
      " 'ERGIC' 'Golgi' 'lysosome' 'mitochondria' 'nucleus' 'p-body' 'peroxisome'\n",
      " 'plasma membrane' 'ribosome' 'stress granule']\n"
     ]
    }
   ],
   "source": [
    "# load ground truth data and open cell data\n",
    "gt9 = pd.read_csv(os.path.join(data_path, \"external\" , \"curated_ground_truth_v9.0.csv\"))[[\n",
    "    \"gene_name_canonical\",\"compartment\"]].copy()\n",
    "oc_comp = pd.read_csv(os.path.join(data_path, \"external\" , \"OpenCell_core_clusters_list.csv\"))[[\n",
    "    'protein','core_complex_id']].copy()\n",
    "\n",
    "# remove nuclear pore from ground truth data\n",
    "if rm_nuc_pore:\n",
    "    gt9 = gt9[gt9.compartment != \"nuclear_pore\"]\n",
    "    print(gt9.compartment.unique())\n",
    "# remove non-membrane-bound organelles from ground truth data\n",
    "if membrane_bound_organelle_only:\n",
    "    gt9 = gt9[gt9.compartment.isin(membrane_bound_organelles)]\n",
    "    print(gt9.compartment.unique())\n",
    "if membraneless_only:\n",
    "    gt9 = gt9[gt9.compartment.isin(membraneless_organelles)]\n",
    "    print(gt9.compartment.unique())"
   ]
  },
  {
   "cell_type": "code",
   "execution_count": 38,
   "metadata": {},
   "outputs": [],
   "source": [
    "corum = pd.read_csv(os.path.join(data_path, \"external\" , \"Corum.4.0.tsv\"), sep='\\t')\n",
    "corum_gens = []\n",
    "corum_complexids = []\n",
    "\n",
    "for idx, row in corum.iterrows():\n",
    "    names = row['subunits(Gene name)'].split(';')\n",
    "    try:\n",
    "        syns = re.split(r'[; ]+', row['subunits(Gene name syn)'])\n",
    "    except:\n",
    "        syns = []\n",
    "    for name in names:\n",
    "        corum_gens.append(name)\n",
    "        corum_complexids.append(row['ComplexID'])\n",
    "    for syn in syns:\n",
    "        corum_gens.append(syn)\n",
    "        corum_complexids.append(row['ComplexID'])\n",
    "\n",
    "corum4 = pd.DataFrame({'gene_name': corum_gens, 'complex_id': corum_complexids})"
   ]
  },
  {
   "cell_type": "markdown",
   "metadata": {},
   "source": [
    "### find common sets of genes shared by all datasets"
   ]
  },
  {
   "cell_type": "code",
   "execution_count": 39,
   "metadata": {},
   "outputs": [],
   "source": [
    "# load prot_ID to gene name mapping\n",
    "df = pd.read_csv(data_path / \"external\" / \"HUMAN_9606_idmapping.dat\", sep=\"\\t\", header=None)\n",
    "prot2gene = dict(zip(df[0], df[2]))\n"
   ]
  },
  {
   "cell_type": "code",
   "execution_count": 40,
   "metadata": {},
   "outputs": [
    {
     "name": "stdout",
     "output_type": "stream",
     "text": [
      "Using Gene_name_cannoical for OrgIP\n",
      "Using Gene_name_cannoical for OrgIP-one-IP-per-compartment\n"
     ]
    }
   ],
   "source": [
    "# convert protein IDs to gene names\n",
    "curated_gene_names = defaultdict()\n",
    "\n",
    "for k in datasets.keys():\n",
    "    df = datasets[k][0] # take the first bootstrap UMAP dataframe\n",
    "    \n",
    "    if k.startswith(\"OrgIP\") and \"Gene_name_canonical\" in df.columns: \n",
    "        # for OrgIp use the `Gene_name_cannoical` column\n",
    "        curated_gene_names[k] = df[\"Gene_name_canonical\"]\n",
    "        print(f\"Using Gene_name_cannoical for {k}\")\n",
    "    elif k.startswith(\"HEK_centrifugation\"):\n",
    "        # for HEK use the first column\n",
    "        curated_gene_names[k] = df[\"Majority protein IDs\"].apply(translate_and_count, translation_dict=prot2gene)\n",
    "        print(f\"mapping Majority protein ID for {k}\")\n",
    "    elif k.startswith(\"DIA-DOMs-2023\"):\n",
    "        # for DIA-DOMs-2023 use the first column\n",
    "        curated_gene_names[k] = df[\"Protein IDs\"].apply(translate_and_count, translation_dict=prot2gene)\n",
    "        print(f\"mapping Protein IDs for {k}\")\n",
    "    elif k.startswith(\"LOPITDCU2OS\") or k.startswith(\"itzhak2016stcSILAC-NOC\") or k.startswith(\"DLOPIT2024\"):\n",
    "        curated_gene_names[k] = df[\"Protein IDs\"].apply(translate_and_count, translation_dict=prot2gene)\n",
    "        print(f\"mapping Protein IDs for {k}\")\n",
    "    elif k.startswith(\"hyperLOPIT\") or k.startswith(\"itzhak2016stcSILAC\"):\n",
    "        # for hyperLOPITU2OS2017 use the first column\n",
    "        curated_gene_names[k] = df[\"Unnamed: 0\"].apply(translate_and_count, translation_dict=prot2gene)\n",
    "        print(f\"mapping Protein IDs for {k}\")\n",
    "    elif k.startswith(\"BioID2021-NMF\"):\n",
    "        curated_gene_names[k] = df[\"gene\"]\n",
    "        print(f\"using gene column for {k}\")\n",
    "    else:\n",
    "        raise ValueError(f\"no mapping for {k}\")\n",
    "    "
   ]
  },
  {
   "cell_type": "code",
   "execution_count": 41,
   "metadata": {},
   "outputs": [
    {
     "name": "stdout",
     "output_type": "stream",
     "text": [
      "between datasets: OrgIP, OrgIP-one-IP-per-compartment\n",
      "the total number of shared of genes are: 8195\n",
      "\n"
     ]
    }
   ],
   "source": [
    "# find the overlap between the datasets\n",
    "def find_intersection(lists):\n",
    "    if not lists:\n",
    "        return []\n",
    "    # Convert the first list to a set\n",
    "    intersection_set = set(lists[0])\n",
    "    # Intersect with all subsequent sets\n",
    "    for lst in lists[1:]:\n",
    "        intersection_set.intersection_update(lst)\n",
    "    return list(intersection_set)\n",
    "\n",
    "# find the intersection of the gene names\n",
    "if use_full_dataset:\n",
    "    print(\"using full datase, and skipping finding intersection\")\n",
    "else:\n",
    "    intersection_byall = find_intersection([set(genes) for genes in curated_gene_names.values()])\n",
    "    print(f\"between datasets: {', '.join(curated_gene_names.keys())}\\nthe total number of shared of genes are: {len(intersection_byall)}\\n\")\n"
   ]
  },
  {
   "cell_type": "code",
   "execution_count": 42,
   "metadata": {},
   "outputs": [
    {
     "name": "stdout",
     "output_type": "stream",
     "text": [
      "using custom intersect, the total number of shared of genes are: 2109\n",
      "\n"
     ]
    }
   ],
   "source": [
    "# apply custom intersect\n",
    "\n",
    "# read the custom intersect file\n",
    "if use_custome_intersect:\n",
    "    intersection_byall = list(pd.read_csv(outdir / \"intersection_genes.txt\", header=None)[0])\n",
    "    print(f\"using custom intersect, the total number of shared of genes are: {len(intersection_byall)}\\n\")"
   ]
  },
  {
   "cell_type": "markdown",
   "metadata": {},
   "source": [
    "### compute clustering scores for each dataset"
   ]
  },
  {
   "cell_type": "code",
   "execution_count": 43,
   "metadata": {},
   "outputs": [],
   "source": [
    "# check the ground truth class counts\n",
    "# gt9[\"compartment\"].value_counts()"
   ]
  },
  {
   "cell_type": "code",
   "execution_count": 44,
   "metadata": {},
   "outputs": [],
   "source": [
    "# setup class-balance utility for the ground truth data\n",
    "groups = gt9.groupby('compartment')\n",
    "# determine the size of the smallest group\n",
    "min_size = min(groups.size())\n",
    "# calculate the threshold for undersampling (10% more than the minimum size)\n",
    "threshold_size = min_size * min_class_size_multiplier\n",
    "# perform conditional undersampling\n",
    "def undersample_or_not(group):\n",
    "    if len(group) > threshold_size:\n",
    "        return group.sample(int(threshold_size + (len(group) - min_size)*difference_multiplier))\n",
    "    else:\n",
    "        return group\n"
   ]
  },
  {
   "cell_type": "code",
   "execution_count": 45,
   "metadata": {},
   "outputs": [
    {
     "name": "stdout",
     "output_type": "stream",
     "text": [
      "Computing scores for OrgIP\n"
     ]
    },
    {
     "data": {
      "application/vnd.jupyter.widget-view+json": {
       "model_id": "dba8365e09f2407682184536821be945",
       "version_major": 2,
       "version_minor": 0
      },
      "text/plain": [
       "Bootstraps:   0%|          | 0/10 [00:00<?, ?it/s]"
      ]
     },
     "metadata": {},
     "output_type": "display_data"
    },
    {
     "name": "stdout",
     "output_type": "stream",
     "text": [
      "....number of proteins after intersect: 2261\n",
      "....number of complex annotations: 4572\n",
      "....number of unique complexes: 1861\n",
      "....number of unique complexes after filtering: 166\n",
      "....number of proteasome-related corum complexes in corum data: 3\n",
      "....number of ground truth annotations: 709\n",
      "\n",
      "\n",
      "\n",
      "Computing scores for OrgIP-one-IP-per-compartment\n"
     ]
    },
    {
     "data": {
      "application/vnd.jupyter.widget-view+json": {
       "model_id": "3898edb7d105490aafefb750378718f5",
       "version_major": 2,
       "version_minor": 0
      },
      "text/plain": [
       "Bootstraps:   0%|          | 0/10 [00:00<?, ?it/s]"
      ]
     },
     "metadata": {},
     "output_type": "display_data"
    },
    {
     "name": "stdout",
     "output_type": "stream",
     "text": [
      "....number of proteins after intersect: 2261\n",
      "....number of complex annotations: 4572\n",
      "....number of unique complexes: 1861\n",
      "....number of unique complexes after filtering: 166\n",
      "....number of proteasome-related corum complexes in corum data: 3\n",
      "....number of ground truth annotations: 709\n",
      "\n",
      "\n",
      "\n"
     ]
    }
   ],
   "source": [
    "# go through each umap and compute scores\n",
    "gt_scores = defaultdict(list)\n",
    "complex_scores = defaultdict(list)\n",
    "\n",
    "for k in datasets.keys():\n",
    "    print(f\"Computing scores for {k}\",flush=True)\n",
    "    # retrieve the pre-mapped gene names\n",
    "    gene_names = curated_gene_names[k]\n",
    "    for i, df in tqdm(enumerate(datasets[k]), total = len(datasets[k]), desc = \"Bootstraps\"):\n",
    "        df[\"Gene_name_for_scoring\"] = gene_names\n",
    "\n",
    "        # subset the dataframes to only include the shared genes for a fair comparison\n",
    "        if use_full_dataset:\n",
    "            print(f\"....number of proteins: {df.shape[0]}\", flush=True) if i == 0 else None\n",
    "        else:\n",
    "            df = df[df[\"Gene_name_for_scoring\"].isin(intersection_byall)]\n",
    "            print(f\"....number of proteins after intersect: {df.shape[0]}\", flush=True) if i == 0 else None\n",
    "\n",
    "        if 'core_complex_id' in df.columns:\n",
    "            df = df.drop(columns=['core_complex_id'])\n",
    "\n",
    "        #########################\n",
    "        # compute complex score #\n",
    "        #########################\n",
    "        if use_corum:\n",
    "            merged = df.merge(corum4, left_on = \"Gene_name_for_scoring\", right_on = \"gene_name\", how = \"left\").drop_duplicates()\n",
    "            complexdb_name = \"Corum\"\n",
    "        else:\n",
    "            merged = df.merge(oc_comp, left_on = \"Gene_name_for_scoring\", right_on = \"protein\", how = \"left\").drop_duplicates()\n",
    "            merged.rename(columns={\"core_complex_id\": \"complex_id\"}, inplace=True)\n",
    "            complexdb_name = \"OpenCell\"\n",
    "        print(f\"....number of complex annotations: {merged[~merged['complex_id'].isna()].shape[0]}\", flush=True) if i == 0 else None\n",
    "        # remove complexes with less than min_complex_labels\n",
    "        print(f\"....number of unique complexes: {merged['complex_id'].nunique()}\", flush=True) if i == 0 else None\n",
    "        if min_complex_labels:\n",
    "            complex_counts = merged['complex_id'].value_counts()\n",
    "            complex_ids = complex_counts[complex_counts >= min_complex_labels].index\n",
    "            merged = merged[merged['complex_id'].isin(complex_ids)]\n",
    "        print(f\"....number of unique complexes after filtering: {merged['complex_id'].nunique()}\", flush=True) if i == 0 else None\n",
    "\n",
    "        merged = merged.dropna(subset=['complex_id'])\n",
    "        map_data = merged[['umap_1', 'umap_2']].to_numpy()\n",
    "            \n",
    "        if score_algo == \"silhouette\":\n",
    "            complex_score = silhouette_score(map_data, merged['complex_id'].to_numpy())\n",
    "        elif score_algo == \"davies_bouldin\":\n",
    "            complex_score = davies_bouldin_score(map_data, merged['complex_id'].to_numpy())\n",
    "        elif score_algo == \"calinski_harabasz\":\n",
    "            complex_score = calinski_harabasz_score(map_data, merged['complex_id'].to_numpy())\n",
    "        test_data = map_data # save a copy for testing\n",
    "        test_label = merged['complex_id'].to_numpy() # save a copy for testing\n",
    "        \n",
    "        # print the number of proteasome in corum data\n",
    "        corum_slice = corum[corum[\"ComplexID\"].isin(merged['complex_id'].unique())]\n",
    "        corum_slice_proteasome = corum_slice[corum_slice[\"GO description\"].str.contains(\"proteasom\", case=False, na=False)]\n",
    "        print(f\"....number of proteasome-related corum complexes in corum data: {corum_slice_proteasome.shape[0]}\", flush=True) if i == 0 else None\n",
    "\n",
    "        #############################################################\n",
    "        # compute ground truth score aka. compartment/organelle score#\n",
    "        #############################################################\n",
    "        merged = df.merge(gt9, left_on = \"Gene_name_for_scoring\", right_on = \"gene_name_canonical\", how = \"left\").drop_duplicates()\n",
    "        print(f\"....number of ground truth annotations: {merged[~merged['compartment'].isna()].shape[0]}\", flush=True) if i == 0 else None\n",
    "\n",
    "        merged = merged.dropna(subset=['compartment'])\n",
    "        map_data = merged[['umap_1', 'umap_2']].to_numpy()\n",
    "\n",
    "        # convert organelle names to integers\n",
    "        unique_strings = list(set(merged['compartment'])) \n",
    "        str_to_int_mapping = {string: index for index, string in enumerate(unique_strings)} # Create a mapping from strings to unique integers\n",
    "        int_to_str_mapping = {index: string for index, string in enumerate(unique_strings)} # Create a mapping from unique integers to strings\n",
    "        org_label_data = [str_to_int_mapping[s] if not pd.isna(s) else s for s in merged['compartment']] # Convert the list of strings to a list of integers\n",
    "        org_label_data = np.array(org_label_data)\n",
    "        if score_algo == \"duo\":\n",
    "            res = clustering_workflows.average_intra_label_to_overall_distance(map_data,org_label_data, mean = mean, sample_size=sample_size, verbose=verbose, exhaustive_inter_pairs = exhaustive_inter_pairs, return_intra_distances = True)\n",
    "            gt_score = res[0]\n",
    "        elif score_algo == \"silhouette\":\n",
    "            gt_score = silhouette_score(map_data, org_label_data)\n",
    "        elif score_algo == \"davies_bouldin\":\n",
    "            gt_score = davies_bouldin_score(map_data, org_label_data)\n",
    "        elif score_algo == \"calinski_harabasz\":\n",
    "            if balance_org_ground_truth:\n",
    "                # balance the ground truth data, and bootstrap the calinski_harabasz_score\n",
    "                gt_score = calinski_harabasz_score_wrapper(df, gt9, k, n_bootstraps=nbootstrap, mean=False)\n",
    "            else:\n",
    "                gt_score = calinski_harabasz_score(map_data, org_label_data)\n",
    "        # save scores\n",
    "        complex_scores[k].append(complex_score)\n",
    "        gt_scores[k].append(gt_score)\n",
    "\n",
    "    print(\"\\n\\n\", flush=True)"
   ]
  },
  {
   "cell_type": "markdown",
   "metadata": {},
   "source": [
    "### plot the scores"
   ]
  },
  {
   "cell_type": "code",
   "execution_count": 46,
   "metadata": {},
   "outputs": [],
   "source": [
    "# compute plot data\n",
    "plot_data = dict()\n",
    "for k in complex_scores.keys():\n",
    "    assert k in gt_scores, f\"key {k} not found in gt_scores\"\n",
    "    n = len(complex_scores[k])\n",
    "    x_mean, y_mean = np.mean(gt_scores[k]), np.mean(complex_scores[k])\n",
    "    x_sem, y_sem =  np.std(gt_scores[k])/np.sqrt(n), np.std(complex_scores[k])/np.sqrt(n)\n",
    "    x_std, y_std = np.std(gt_scores[k]), np.std(complex_scores[k])\n",
    "\n",
    "    x_median = np.median(gt_scores[k])\n",
    "    x_err_upper = np.percentile(gt_scores[k], 90) - x_median\n",
    "    x_err_lower = x_median - np.percentile(gt_scores[k], 10)\n",
    "    y_median = np.median(complex_scores[k])\n",
    "    y_err_upper = np.percentile(complex_scores[k], 90) - y_median\n",
    "    y_err_lower = y_median - np.percentile(complex_scores[k], 10)\n",
    "\n",
    "    # map the dataset name to the name that should be shown in the plot\n",
    "    new_name = dataset_name_mapping.get(k, k)\n",
    "    plot_data[new_name] = [x_mean, y_mean, x_sem, y_sem, x_std, y_std, x_median, y_median, x_err_upper, x_err_lower, y_err_upper, y_err_lower]\n",
    "    "
   ]
  },
  {
   "cell_type": "code",
   "execution_count": 47,
   "metadata": {},
   "outputs": [],
   "source": [
    "# load color palettes\n",
    "tab20c = [mcolors.to_hex(color) for color in plt.cm.tab20c.colors]\n",
    "tab20 = [mcolors.to_hex(color) for color in plt.cm.tab20.colors]\n",
    "tab10 = [mcolors.to_hex(color) for color in plt.cm.tab10.colors]\n",
    "set1 = [mcolors.to_hex(color) for color in plt.cm.Set1.colors]\n",
    "set2 = [mcolors.to_hex(color) for color in plt.cm.Set2.colors]\n",
    "set3 = [mcolors.to_hex(color) for color in plt.cm.Set3.colors]\n",
    "paired = [mcolors.to_hex(color) for color in plt.cm.Paired.colors]\n",
    "dark = [mcolors.to_hex(color) for color in plt.cm.Dark2.colors]\n",
    "# define color order\n",
    "colors = [tab10[0]]+ [tab10[4]] + [tab10[6]] + [tab10[8]] + tab10[1:4] + [tab10[5]] + [tab10[7]] + [tab10[9]] + [set2[0]] + [paired[9]] + [dark[5]]"
   ]
  },
  {
   "cell_type": "code",
   "execution_count": 48,
   "metadata": {},
   "outputs": [
    {
     "data": {
      "image/png": "[encoded data removed]",
      "text/plain": [
       "<Figure size 800x600 with 1 Axes>"
      ]
     },
     "metadata": {},
     "output_type": "display_data"
    }
   ],
   "source": [
    "# plot the data\n",
    "plot_width = 8\n",
    "plot_height = 6\n",
    "plot_x_min = 0\n",
    "plot_x_max = 109\n",
    "plot_y_min = 0\n",
    "plot_y_max = 45\n",
    "\n",
    "plt.figure(figsize=(plot_width, plot_height))\n",
    "for idx, k in enumerate(plot_data):\n",
    "    x_mean, y_mean, x_sem, y_sem, x_std, y_std, x_median, y_median, x_err_upper, x_err_lower, y_err_upper, y_err_lower = plot_data[k]\n",
    "    plt.errorbar(x_mean, y_mean, xerr=x_sem, yerr=y_sem, fmt='o', capsize=5, capthick=1, ecolor=colors[idx], color = colors[idx], label=k)\n",
    "plt.title('')\n",
    "plt.xlabel('Clustering score against organelle-level ground truth', fontsize=11)\n",
    "plt.ylabel(f'Clustering score against\\n {complexdb_name} complexes ground truth', fontsize=11)\n",
    "# check tick label size\n",
    "plt.xticks(fontsize=11)\n",
    "plt.yticks(fontsize=11)\n",
    "plt.xlim(plot_x_min, plot_x_max)\n",
    "plt.ylim(plot_y_min, plot_y_max)\n",
    "# add legend to the right of the current axis\n",
    "plt.legend(loc='center left', bbox_to_anchor=(1, 0.5))\n",
    "plt.grid(False)\n",
    "# remove top and right spines\n",
    "plt.gca().spines['top'].set_visible(False)\n",
    "plt.gca().spines['right'].set_visible(False)\n",
    "\n",
    "# save the plot as pdf\n",
    "plt.savefig(outdir / \"clustering_scores_internal.pdf\", bbox_inches=\"tight\", format=\"pdf\", dpi=600)\n",
    "\n",
    "plt.show()"
   ]
  }
 ],
 "metadata": {
  "kernelspec": {
   "display_name": "OrgIP_zenodo",
   "language": "python",
   "name": "python3"
  },
  "language_info": {
   "codemirror_mode": {
    "name": "ipython",
    "version": 3
   },
   "file_extension": ".py",
   "mimetype": "text/x-python",
   "name": "python",
   "nbconvert_exporter": "python",
   "pygments_lexer": "ipython3",
   "version": "3.10.9"
  }
 },
 "nbformat": 4,
 "nbformat_minor": 2
}
