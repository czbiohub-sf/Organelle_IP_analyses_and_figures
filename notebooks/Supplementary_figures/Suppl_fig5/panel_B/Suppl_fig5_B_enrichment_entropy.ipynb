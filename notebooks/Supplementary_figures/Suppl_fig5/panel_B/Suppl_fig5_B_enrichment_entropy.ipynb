{
 "cells": [
  {
   "cell_type": "markdown",
   "metadata": {},
   "source": [
    "## Suppl. Fig. 5 panel B Enrichment entropy"
   ]
  },
  {
   "cell_type": "code",
   "execution_count": 1,
   "metadata": {},
   "outputs": [],
   "source": [
    "import os, sys, math, statistics\n",
    "from pathlib import Path\n",
    "import matplotlib.pyplot as plt\n",
    "import numpy as np\n",
    "import pandas as pd\n",
    "from collections import Counter\n",
    "from scipy.stats import median_abs_deviation, mannwhitneyu\n",
    "from scipy.stats import ks_2samp, wilcoxon, kruskal\n",
    "import plotly.express as px\n",
    "\n",
    "import warnings\n",
    "\n",
    "plt.style.use('ggplot')\n",
    "plt.rcParams['pdf.fonttype'] = 42\n",
    "import seaborn as sns\n",
    "\n",
    "script_path = Path.cwd().parent.parent.parent.parent / \"script\"\n",
    "data_path = Path.cwd().parent.parent.parent.parent / \"data\"\n",
    "sys.path.append(str(script_path))\n",
    "\n",
    "outpath = Path.cwd() / \"output\"\n",
    "outpath.mkdir(exist_ok=True)\n",
    "\n",
    "from utils.label_processing import attach_annotations"
   ]
  },
  {
   "cell_type": "markdown",
   "metadata": {},
   "source": [
    "parameters"
   ]
  },
  {
   "cell_type": "code",
   "execution_count": null,
   "metadata": {},
   "outputs": [],
   "source": [
    "pval_filter = True # use True for best results\n",
    "combine_samples = False # use False for best results\n",
    "normalization = False # use False for best results\n",
    "pval_cutoff = 0.3\n",
    "nbins = 35"
   ]
  },
  {
   "cell_type": "markdown",
   "metadata": {},
   "source": [
    "## load data"
   ]
  },
  {
   "cell_type": "code",
   "execution_count": 2,
   "metadata": {},
   "outputs": [
    {
     "name": "stdout",
     "output_type": "stream",
     "text": [
      "Timestamp: 2023-10-21-imp5-for-figures\n"
     ]
    }
   ],
   "source": [
    "%store -r timestamp\n",
    "print(f\"Timestamp: {timestamp}\")   "
   ]
  },
  {
   "cell_type": "markdown",
   "metadata": {},
   "source": [
    "#### load volcano data\n"
   ]
  },
  {
   "cell_type": "code",
   "execution_count": 3,
   "metadata": {},
   "outputs": [],
   "source": [
    "# define files to load\n",
    "enrichment_dir = Path.cwd().parent.parent.parent / \"enrichment\"\n",
    "volcano_csv_path = enrichment_dir / \"output\" / \"enrichment_and_volcano_tables\" / f\"{timestamp}_volcano_table.csv\"\n",
    "\n",
    "try:\n",
    "    # load the file\n",
    "    volcano = pd.read_csv(volcano_csv_path, header=[0, 1], index_col=0)\n",
    "except FileNotFoundError:\n",
    "    print(f\"File {volcano_csv_path} not found.\\nPlease run the enrichment analysis first or specify the correct timestamp, current value is {timestamp}\")\n",
    "except pd.errors.ParserError:\n",
    "    print(f\"There was an error parsing the CSV file at {volcano_csv_path}.\")\n",
    "except Exception as e:\n",
    "    print(f\"An unexpected error occurred: {e}\")"
   ]
  },
  {
   "cell_type": "code",
   "execution_count": 4,
   "metadata": {},
   "outputs": [],
   "source": [
    "# attach canonical gene names\n",
    "gene_name_csv = data_path / \"external\" / \"canonical_names_and_Itzhak_data.csv\"\n",
    "\n",
    "lookup_table = pd.read_csv(gene_name_csv)\n",
    "to_df = volcano[\"metadata\"].copy()\n",
    "list_of_cols_to_add = reversed([\"Gene_name_canonical\"])\n",
    "for c in list_of_cols_to_add:\n",
    "    new_col_data = attach_annotations(from_df=lookup_table, to_df=to_df, anno_col=c , from_on=\"Majority protein IDs\", to_on=\"Majority protein IDs\")\n",
    "    volcano[(\"metadata\", \"Gene_name_canonical\")] = new_col_data\n",
    "\n",
    "# attach ground truth\n",
    "ground_truth_csv = data_path / \"external\" / \"curated_ground_truth_v9.0.csv\"\n",
    "\n",
    "lookup_table = pd.read_csv(ground_truth_csv)\n",
    "to_df = volcano[\"metadata\"].copy()\n",
    "list_of_cols_to_add = reversed([\"compartment\"])\n",
    "for c in list_of_cols_to_add:\n",
    "    new_col_data = attach_annotations(from_df=lookup_table, to_df=to_df, anno_col=c, from_on=\"gene_name_canonical\", to_on=\"Gene_name_canonical\")\n",
    "    volcano[(\"metadata\", \"curated_ground_truth_v9.0\")] = new_col_data\n"
   ]
  },
  {
   "cell_type": "markdown",
   "metadata": {},
   "source": [
    "#### load MSC data"
   ]
  },
  {
   "cell_type": "code",
   "execution_count": 5,
   "metadata": {},
   "outputs": [],
   "source": [
    "# define files to load\n",
    "external_dir = Path.cwd().parent.parent.parent.parent / \"data\" / \"external\"\n",
    "Human_mcs_path = external_dir / \"Human_mcs.txt\"\n",
    "\n",
    "try:\n",
    "    # load the file\n",
    "    mcs = pd.read_csv(Human_mcs_path, header=0,sep=\"\\t\")\n",
    "except FileNotFoundError:\n",
    "    print(f\"File {Human_mcs_path} not found.\\nPlease run the enrichment analysis first or specify the correct timestamp, current value is {timestamp}\")\n",
    "except pd.errors.ParserError:\n",
    "    print(f\"There was an error parsing the CSV file at {Human_mcs_path}.\")\n",
    "except Exception as e:\n",
    "    print(f\"An unexpected error occurred: {e}\")"
   ]
  },
  {
   "cell_type": "code",
   "execution_count": 6,
   "metadata": {},
   "outputs": [
    {
     "data": {
      "text/plain": [
       "(580, 47)"
      ]
     },
     "execution_count": 6,
     "metadata": {},
     "output_type": "execute_result"
    }
   ],
   "source": [
    "mcs_HEK293 = mcs[mcs[\"cell.line.tissue\"].str.contains(\"HEK293\")]\n",
    "mcs_HEK293.shape"
   ]
  },
  {
   "cell_type": "markdown",
   "metadata": {},
   "source": [
    "## preprocess enrichment values"
   ]
  },
  {
   "cell_type": "markdown",
   "metadata": {},
   "source": [
    "### Split the pvals and enrichments into two dataframes"
   ]
  },
  {
   "cell_type": "code",
   "execution_count": 7,
   "metadata": {},
   "outputs": [],
   "source": [
    "sample_cols = [i for i in volcano.columns if i[0].startswith((\"0\", \"1\", \"2\", \"3\", \"4\", \"5\", \"6\", \"7\", \"8\", \"9\"))]\n",
    "\n",
    "pval = volcano.copy()\n",
    "for col in sample_cols:\n",
    "    if col[1] == \"enrichment\":\n",
    "        pval.drop(col, axis=1, inplace=True)"
   ]
  },
  {
   "cell_type": "code",
   "execution_count": 8,
   "metadata": {},
   "outputs": [],
   "source": [
    "# construct a p-value dataframe\n",
    "pval = volcano.copy()\n",
    "for col in sample_cols:\n",
    "    if col[1] == \"enrichment\":\n",
    "        pval.drop(col, axis=1, inplace=True)\n",
    "\n",
    "# rename the columns so that pval becomes the sample name (prepare for level drop)\n",
    "new_column_names = [(i[0], i[0]) if i[1] == \"pvals\" else (i[0], i[1]) for i in pval.columns]\n",
    "pval.columns = pd.MultiIndex.from_tuples(new_column_names)\n",
    "pval = pval.droplevel(0, axis=1)\n",
    "\n",
    "# construct an enrichment dataframe\n",
    "enrichment = volcano.copy()\n",
    "for col in sample_cols:\n",
    "    if col[1] == \"pvals\":\n",
    "        enrichment.drop(col, axis=1, inplace=True)\n",
    "\n",
    "# rename the columns so that enrichment becomes the sample name (prepare for level drop)\n",
    "new_column_names = [\n",
    "    (i[0], i[0]) if i[1] == \"enrichment\" else (i[0], i[1]) for i in enrichment.columns\n",
    "]\n",
    "enrichment.columns = pd.MultiIndex.from_tuples(new_column_names)\n",
    "enrichment = enrichment.droplevel(0, axis=1)"
   ]
  },
  {
   "cell_type": "code",
   "execution_count": 9,
   "metadata": {},
   "outputs": [],
   "source": [
    "# drop WT columns\n",
    "\n",
    "for col in enrichment.columns:\n",
    "    if \"WT\" in col:\n",
    "        enrichment.drop(col, axis=1, inplace=True)\n",
    "        pval.drop(col, axis=1, inplace=True)"
   ]
  },
  {
   "cell_type": "markdown",
   "metadata": {},
   "source": [
    "### Define pulldowns to use"
   ]
  },
  {
   "cell_type": "code",
   "execution_count": 10,
   "metadata": {},
   "outputs": [],
   "source": [
    "samples = list(set([i[0] for i in sample_cols])) # get a tally of the samples [samples are named: experiment-bait]\n",
    "\n",
    "bait2exp = {}\n",
    "for sample in samples:\n",
    "    experiment, bait = sample.split(\"-\")\n",
    "    if bait not in bait2exp:\n",
    "        bait2exp[bait] = [experiment]\n",
    "    else:\n",
    "        bait2exp[bait] = bait2exp[bait] + [experiment]\n"
   ]
  },
  {
   "cell_type": "code",
   "execution_count": 11,
   "metadata": {},
   "outputs": [],
   "source": [
    "pulldowns = [\"12-YWHAQ\",\"12-ACTB\",\"09-ATG101\",\"17-MAP1LC3B\",\"11-CEP350\",\"10-VPS35\",\"07-CLTA\",\"11-EEA1\",\"05-NCLN\",\n",
    "\"06-CCDC47\",\"12-RTN4\",\"12-SEC61B\",\"02-COPE\",\"03-SEC23A\",\"11-SEC31A\",\"14-RAB1A\",\"07-COG8\",\"11-GPR107\",\n",
    "\"13-GOLGA2\",\"03-HSPA1B\",\"09-HSP90AA1\",\"12-LAMP1\",\"14-RAB7A\",\"12-TOMM20\",\"02-DCP1A\",\"05-EDC4\",\"09-PEX3\",\n",
    "\"05-CAV1\",\"17-ATP1B3\",\"17-SLC30A2\",\"09-PSMB7\",\"13-RAB14\",\"14-RAB11A\",\"17-RPL36\",\"17-CAPRIN1\",\"17-G3BP1\"]\n",
    "assert all([i in samples for i in pulldowns]), \"Not all pulldowns are in the data\" \n",
    "\n",
    "compartments = [\"14-3-3\",\"actin\",\"autophagosome\",\"autophagosome\",\"centrosome\",\"endo/lysosome\",\"endosome\",\"endosome\",\"ER\",\n",
    "\"ER\",\"ER\",\"ER\",\"ER/Golgi\",\"ER/Golgi\",\"ER/Golgi\",\"ER/Golgi\",\"Golgi\",\"Golgi\",\"Golgi\",\"HSP70 chaperone\",\n",
    "\"HSP90 chaperone\",\"lysosome\",\"lysosome\",\"mitochondria\",\"p-body\",\"p-body\",\"peroxisome\",\"plasma membrane\",\n",
    "\"plasma membrane\",\"plasma membrane\",\"proteasome\",\"recycling endosome\",\"recycling endosome\",\"ribosome\",\n",
    "\"stress granule\",\"stress granule\"]"
   ]
  },
  {
   "cell_type": "code",
   "execution_count": 12,
   "metadata": {},
   "outputs": [
    {
     "name": "stdout",
     "output_type": "stream",
     "text": [
      "Counter({'ER': 4, 'ER/Golgi': 4, 'Golgi': 3, 'plasma membrane': 3, 'autophagosome': 2, 'endosome': 2, 'lysosome': 2, 'p-body': 2, 'recycling endosome': 2, 'stress granule': 2, '14-3-3': 1, 'actin': 1, 'centrosome': 1, 'endo/lysosome': 1, 'HSP70 chaperone': 1, 'HSP90 chaperone': 1, 'mitochondria': 1, 'peroxisome': 1, 'proteasome': 1, 'ribosome': 1})\n"
     ]
    }
   ],
   "source": [
    "counter = Counter(compartments)\n",
    "print(counter)"
   ]
  },
  {
   "cell_type": "code",
   "execution_count": 13,
   "metadata": {},
   "outputs": [],
   "source": [
    "col2type = dict(zip(pulldowns, compartments))\n",
    "\n",
    "type2cols = {}\n",
    "for column, type_ in col2type.items():\n",
    "    if type_ not in type2cols:\n",
    "        type2cols[type_] = []\n",
    "    type2cols[type_].append(column)"
   ]
  },
  {
   "cell_type": "markdown",
   "metadata": {},
   "source": [
    "### Process enrichemnts"
   ]
  },
  {
   "cell_type": "code",
   "execution_count": 15,
   "metadata": {},
   "outputs": [],
   "source": [
    "# p-value filter\n",
    "sam_enrichment = pd.DataFrame()\n",
    "if pval_filter:\n",
    "    mask = pval[pulldowns] > -math.log10(pval_cutoff) #0.698970004 # 1.301029996 is -log10(0.05)  0.698970004 is -log10(0.25)\n",
    "    sam_enrichment = enrichment[pulldowns].where(mask)\n",
    "else:\n",
    "    sam_enrichment = enrichment[pulldowns]"
   ]
  },
  {
   "cell_type": "code",
   "execution_count": 16,
   "metadata": {},
   "outputs": [],
   "source": [
    "# normalization\n",
    "if normalization:\n",
    "    sam_enrichment = sam_enrichment.apply(lambda x: ((x - x.min()) / (x.max() - x.min())))"
   ]
  },
  {
   "cell_type": "code",
   "execution_count": 17,
   "metadata": {},
   "outputs": [],
   "source": [
    "# fill NaNs with 0 and replace negative values with 0\n",
    "sam_enrichment.fillna(0, inplace=True)\n",
    "sam_enrichment = sam_enrichment.clip(lower = 0)"
   ]
  },
  {
   "cell_type": "code",
   "execution_count": 18,
   "metadata": {},
   "outputs": [],
   "source": [
    "# get max enrichment for each compartment\n",
    "comp_enrichment = pd.DataFrame()\n",
    "for type_, columns in type2cols.items():\n",
    "    comp_enrichment[type_] = sam_enrichment[columns].max(axis=1)"
   ]
  },
  {
   "cell_type": "markdown",
   "metadata": {},
   "source": [
    "## Compute entropy and plot"
   ]
  },
  {
   "cell_type": "code",
   "execution_count": 19,
   "metadata": {},
   "outputs": [],
   "source": [
    "if combine_samples:\n",
    "    enrichment_to_use = comp_enrichment\n",
    "else:\n",
    "    enrichment_to_use = sam_enrichment"
   ]
  },
  {
   "cell_type": "code",
   "execution_count": 20,
   "metadata": {},
   "outputs": [],
   "source": [
    "entropy = pd.DataFrame()"
   ]
  },
  {
   "cell_type": "code",
   "execution_count": 21,
   "metadata": {},
   "outputs": [],
   "source": [
    "def calculate_entropy(probabilities, idx_to_exclude = None):\n",
    "    \"\"\"\n",
    "    Calculate the entropy of a probability distribution.\n",
    "    \n",
    "    :param probabilities: array-like, probabilities for each class\n",
    "    :return: entropy, a measure of uncertainty of the prediction\n",
    "    \"\"\"\n",
    "    # remove the excluded index\n",
    "    #print(probabilities)\n",
    "    if idx_to_exclude:\n",
    "        probabilities = np.delete(probabilities, idx_to_exclude)\n",
    "    # check if probabilities sum to 1\n",
    "    if np.sum(probabilities) != 1:\n",
    "        # normalize probabilities to sum to 1\n",
    "        probabilities = probabilities / np.sum(probabilities)\n",
    "\n",
    "    # Replace 0s with 1s to handle log(0) case, as log(1) = 0\n",
    "    probabilities = np.clip(probabilities, 1e-20, 1)\n",
    "    entropy = -np.sum(probabilities * np.log(probabilities))\n",
    "    return entropy\n",
    "\n",
    "def entropy_wrapper(row):\n",
    "    \"\"\"\n",
    "    Calculate the entropy of a probability distribution.\n",
    "    \n",
    "    :param probabilities: array-like, probabilities for each class\n",
    "    :return: entropy, a measure of uncertainty of the prediction\n",
    "    \"\"\"\n",
    "    idx = row.name\n",
    "    compart = enrichment.loc[idx,\"curated_ground_truth_v9.0\"] # get the compartment for the current row by looking up the ground truth column in the enrichment table\n",
    "\n",
    "    # get the idx of columns to exclude\n",
    "    idx_to_exclude = []\n",
    "    for i, j in enumerate(enrichment_to_use.columns.to_list()):\n",
    "        if col2type[j] == compart:\n",
    "            idx_to_exclude.append(i)\n",
    "    #print(np.array(row.values))\n",
    "    #print(idx_to_exclude)\n",
    "\n",
    "    return calculate_entropy(np.array(row.values), idx_to_exclude)\n"
   ]
  },
  {
   "cell_type": "code",
   "execution_count": 22,
   "metadata": {},
   "outputs": [
    {
     "name": "stderr",
     "output_type": "stream",
     "text": [
      "C:\\Users\\duo.peng\\AppData\\Local\\Temp\\ipykernel_31720\\1270498818.py:15: RuntimeWarning: invalid value encountered in divide\n",
      "  probabilities = probabilities / np.sum(probabilities)\n"
     ]
    }
   ],
   "source": [
    "if combine_samples:\n",
    "    entropy[\"enrichment_entropy\"] = enrichment_to_use.apply(lambda row: calculate_entropy(np.array(row.values)), axis=1)\n",
    "else:\n",
    "    entropy[\"enrichment_entropy\"] = enrichment_to_use.apply(lambda row: entropy_wrapper(row), axis=1)\n",
    "    \n",
    "entropy['Gene_name_canonical'] = enrichment[\"Gene_name_canonical\"]"
   ]
  },
  {
   "cell_type": "code",
   "execution_count": 23,
   "metadata": {},
   "outputs": [
    {
     "name": "stdout",
     "output_type": "stream",
     "text": [
      "Median enrichment entropy: 1.882592741871108\n",
      "1st quartile enrichment entropy: 1.5501578607889985\n",
      "3rd quartile enrichment entropy: 2.232402717686064\n"
     ]
    }
   ],
   "source": [
    "entropy_median = entropy[\"enrichment_entropy\"].median()\n",
    "entropy_Q1 = entropy[\"enrichment_entropy\"].quantile(0.25)\n",
    "entropy_Q3 = entropy[\"enrichment_entropy\"].quantile(0.75)\n",
    "\n",
    "print(\"Median enrichment entropy:\", entropy_median)\n",
    "print(\"1st quartile enrichment entropy:\", entropy_Q1)\n",
    "print(\"3rd quartile enrichment entropy:\", entropy_Q3)"
   ]
  },
  {
   "cell_type": "markdown",
   "metadata": {},
   "source": [
    "### plot"
   ]
  },
  {
   "cell_type": "code",
   "execution_count": 24,
   "metadata": {},
   "outputs": [],
   "source": [
    "entropy[\"in_MCSdb\"] = entropy[\"Gene_name_canonical\"].isin(mcs_HEK293[\"gene.symbol\"])\n",
    "entropy[\"in_MCSdb\"].value_counts()\n",
    "\n",
    "in_MCSdb_count = entropy[\"in_MCSdb\"].value_counts()[1]\n",
    "not_in_MCSdb_count = entropy[\"in_MCSdb\"].value_counts()[0]"
   ]
  },
  {
   "cell_type": "code",
   "execution_count": 25,
   "metadata": {},
   "outputs": [],
   "source": [
    "# save the column before replacing the values\n",
    "annot_df = enrichment_to_use.copy()\n",
    "annot_df.insert(loc=2, column = \"in_MCSdb(HEK293T)\", value = entropy[\"in_MCSdb\"].copy())\n",
    "\n",
    "# replace True with in_MCSdb and False with not_in_MCSdb\n",
    "entropy[\"in_MCSdb\"] = entropy[\"in_MCSdb\"].replace({True: f\"in MCSdb (HEK293T) n={in_MCSdb_count}\", False: f\"not in MCSdb (HEK293T) n={not_in_MCSdb_count}\"})"
   ]
  },
  {
   "cell_type": "code",
   "execution_count": 26,
   "metadata": {},
   "outputs": [],
   "source": [
    "# This function is used to create a diagonal mark on the axes\n",
    "def break_indicator(ax, ax2):\n",
    "    d = 0.015  # size of diagonal mark\n",
    "    kwargs = dict(transform=ax.transAxes, color='k', clip_on=False)\n",
    "    ax.plot((-d, +d), (-d, +d), **kwargs)         # top-left diagonal\n",
    "    #ax.plot((1 - d, 1 + d), (-d, +d), **kwargs)  # top-right diagonal\n",
    "    kwargs.update(transform=ax2.transAxes)  # change the transform for ax2\n",
    "    ax2.plot((-d, +d), (1 - d, 1 + d), **kwargs)  # bottom-left diagonal\n",
    "    #ax2.plot((1 - d, 1 + d), (1 - d, 1 + d), **kwargs)  # bottom-right diagonal"
   ]
  },
  {
   "cell_type": "code",
   "execution_count": 27,
   "metadata": {},
   "outputs": [
    {
     "data": {
      "image/png": "[encoded data removed]",
      "text/plain": [
       "<Figure size 800x500 with 2 Axes>"
      ]
     },
     "metadata": {},
     "output_type": "display_data"
    }
   ],
   "source": [
    "# Assuming 'entropy' is your DataFrame and it contains 'enrichment_entropy' and 'interfacial&MCS' columns\n",
    "fig, (ax, ax2) = plt.subplots(2, 1, sharex=True, figsize=(8, 5),\n",
    "                              gridspec_kw={'height_ratios': [3, 1], 'hspace': 0.1})\n",
    "\n",
    "# Plot the same data on both axes\n",
    "sns.histplot(data=entropy, x=\"enrichment_entropy\", bins=nbins, kde=True, hue=\"in_MCSdb\", ax=ax)\n",
    "sns.histplot(data=entropy, x=\"enrichment_entropy\", bins=nbins, kde=True, hue=\"in_MCSdb\", ax=ax2)\n",
    "\n",
    "# Set y-limits for the axes\n",
    "ax.set_ylim(80, 700)  # Adjust the upper limit according to your data's range\n",
    "ax2.set_ylim(0, 80)\n",
    "\n",
    "# Hide the spines between ax and ax2\n",
    "ax.spines['bottom'].set_visible(False)\n",
    "ax2.spines['top'].set_visible(False)\n",
    "ax.xaxis.tick_top()\n",
    "ax.tick_params(labeltop=False, top = False)  # Don't put tick labels at the top\n",
    "ax2.xaxis.tick_bottom()\n",
    "\n",
    "# Apply the break indicator function\n",
    "break_indicator(ax, ax2)\n",
    "\n",
    "# Title, labels, and other aesthetics\n",
    "ax2.set_xlabel(\"entropy of enrichment profile\", fontsize=16)\n",
    "ax.set_ylabel(\"number of proteins\", fontsize=16)\n",
    "ax2.set_ylabel(\"\")\n",
    "fig.suptitle(\"Distribution of enrichment entropy\")\n",
    "\n",
    "# Color palette and line width\n",
    "color_pal = px.colors.qualitative.D3  # Ensure you have the right import for px\n",
    "lw = 1.5  # This line and color_pal do not seem to be used in this snippet\n",
    "\n",
    "# No grid and set background color for both subplots\n",
    "ax.grid(False)\n",
    "ax2.grid(False)\n",
    "ax.set_facecolor('white')\n",
    "ax2.set_facecolor('white')\n",
    "\n",
    "# Customize axes appearance\n",
    "for a in [ax, ax2]:\n",
    "    a.spines['left'].set_visible(True)\n",
    "    a.spines['left'].set_color('black')\n",
    "    a.spines['left'].set_linewidth(1)\n",
    "    a.spines['bottom'].set_visible(True)\n",
    "    a.spines['bottom'].set_color('black')\n",
    "    a.spines['bottom'].set_linewidth(1)\n",
    "\n",
    "ax.spines['bottom'].set_visible(False)\n",
    "\n",
    "# Remove the legend title\n",
    "legend = ax.get_legend()\n",
    "legend.set_title(None)\n",
    "\n",
    "# remove the legend from the bottom subplot\n",
    "ax2.get_legend().remove()\n",
    "\n",
    "ax.axvline(x=entropy_median, color=\"gray\", linestyle='-', label=\"median\", linewidth=lw)\n",
    "ax.axvline(x=entropy_Q1, color=\"gray\", linestyle='--', label=\"Q1\", linewidth=lw)\n",
    "ax.axvline(x=entropy_Q3, color=\"gray\", linestyle='--', label=\"Q3\", linewidth=lw)\n",
    "\n",
    "ax.text(entropy_median+0.35, ax.get_ylim()[1] * 0.95, 'Median', horizontalalignment='right', verticalalignment='top', color=\"gray\")\n",
    "ax.text(entropy_Q1+0.15, ax.get_ylim()[1] * 0.95, 'Q2', horizontalalignment='right', verticalalignment='top', color=\"gray\")\n",
    "ax.text(entropy_Q3+0.01, ax.get_ylim()[1] * 0.95, 'Q3', horizontalalignment='left', verticalalignment='top', color=\"gray\")\n",
    "\n",
    "ax2.axvline(x=entropy_median, color=\"gray\", linestyle='-', label=\"median\", linewidth=lw)\n",
    "ax2.axvline(x=entropy_Q1, color=\"gray\", linestyle='--', label=\"Q1\", linewidth=lw)\n",
    "ax2.axvline(x=entropy_Q3, color=\"gray\", linestyle='--', label=\"Q3\", linewidth=lw)\n",
    "\n",
    "# save the plot\n",
    "plt.savefig(outpath / \"entropy_distribution.pdf\", dpi=600, bbox_inches='tight', format='pdf')\n",
    "\n",
    "plt.show()"
   ]
  }
 ],
 "metadata": {
  "kernelspec": {
   "display_name": "OrgIP2",
   "language": "python",
   "name": "python3"
  },
  "language_info": {
   "codemirror_mode": {
    "name": "ipython",
    "version": 3
   },
   "file_extension": ".py",
   "mimetype": "text/x-python",
   "name": "python",
   "nbconvert_exporter": "python",
   "pygments_lexer": "ipython3",
   "version": "3.10.9"
  }
 },
 "nbformat": 4,
 "nbformat_minor": 2
}
