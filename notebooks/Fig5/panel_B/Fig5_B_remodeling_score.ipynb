{
 "cells": [
  {
   "cell_type": "markdown",
   "metadata": {},
   "source": [
    "# Fig. 5 panel B remodeling score"
   ]
  },
  {
   "cell_type": "code",
   "execution_count": 6,
   "metadata": {},
   "outputs": [],
   "source": [
    "import os, sys\n",
    "from pathlib import Path\n",
    "import matplotlib.gridspec as gridspec\n",
    "import matplotlib.pyplot as plt\n",
    "import numpy as np\n",
    "import pandas as pd\n",
    "import seaborn as sns\n",
    "\n",
    "plt.rcParams[\"pdf.fonttype\"] = 42\n",
    "\n",
    "script_path = Path.cwd().parent.parent.parent / \"script\"\n",
    "data_path = Path.cwd().parent.parent.parent / \"data\"\n",
    "sys.path.append(str(script_path))\n",
    "\n",
    "from pyseus.plotting import plotly_umap as pu\n",
    "from utils import *\n",
    "\n",
    "output_folder = Path.cwd() / \"output\"\n",
    "os.makedirs(output_folder, exist_ok=True)"
   ]
  },
  {
   "cell_type": "markdown",
   "metadata": {},
   "source": [
    "### Load data"
   ]
  },
  {
   "cell_type": "code",
   "execution_count": 7,
   "metadata": {},
   "outputs": [
    {
     "name": "stdout",
     "output_type": "stream",
     "text": [
      "Timestamp: 2023-10-21-for-figures\n",
      "n_seeds: 200\n"
     ]
    }
   ],
   "source": [
    "%store -r fig5_timestamp\n",
    "print(f\"Timestamp: {fig5_timestamp}\")\n",
    "\n",
    "# load the number of seeds used in the alignedUMAP\n",
    "try:\n",
    "    %store -r n_seeds\n",
    "    print(f\"n_seeds: {n_seeds}\")\n",
    "except:\n",
    "    print(\"n_seeds not found. please specify (below) the number of bootstrap seeds (same as that used in Fig5_A_aligned_umap.ipynb)\")\n",
    "    n_seeds = 200"
   ]
  },
  {
   "cell_type": "code",
   "execution_count": 8,
   "metadata": {},
   "outputs": [],
   "source": [
    "input_path = Path.cwd().parent / \"panel_A\" / \"3.aligned_umap\" / \"output\" / f\"{fig5_timestamp}_AlignedUMAP_embeddings_and_distances.csv\"\n",
    "\n",
    "try:\n",
    "    df = pd.read_csv(input_path, low_memory=False)\n",
    "except FileNotFoundError:\n",
    "    print(f\"File {input_path} not found.\\n please run the aligned_umap notebooks first.\")\n",
    "except pd.errors.ParserError:\n",
    "    print(f\"There was an error parsing the CSV file at {input_path}.\")\n",
    "except Exception as e:\n",
    "    print(f\"An unexpected error occurred: {e}\")"
   ]
  },
  {
   "cell_type": "markdown",
   "metadata": {},
   "source": [
    "### Plot"
   ]
  },
  {
   "cell_type": "code",
   "execution_count": 9,
   "metadata": {},
   "outputs": [
    {
     "data": {
      "image/png": "[encoded data removed]",
      "text/plain": [
       "<Figure size 640x480 with 2 Axes>"
      ]
     },
     "metadata": {},
     "output_type": "display_data"
    },
    {
     "data": {
      "text/plain": [
       "<Figure size 640x480 with 0 Axes>"
      ]
     },
     "metadata": {},
     "output_type": "display_data"
    }
   ],
   "source": [
    "data = df[f\"10d_mean_distance_traveled ({n_seeds} bootstraps)\"] \n",
    "\n",
    "# create grid layout\n",
    "gs = gridspec.GridSpec(2, 1, height_ratios=[5, 1])\n",
    "\n",
    "# histogram\n",
    "ax0 = plt.subplot(gs[0])\n",
    "sns.histplot(data, ax=ax0, kde=False)\n",
    "ax0.set(xlabel='')\n",
    "# turn off x tick labels\n",
    "ax0.set_xticklabels([])\n",
    "\n",
    "# boxplot\n",
    "ax1 = plt.subplot(gs[1])\n",
    "sns.boxplot(x=data, ax=ax1, flierprops=dict(marker='o', markeredgecolor=\"orange\", markerfacecolor='none', markersize=6))\n",
    "ax1.set(xlabel='Remodeling score')\n",
    "\n",
    "# display the plot\n",
    "plt.show()\n",
    "\n",
    "# save the plot\n",
    "output_path = output_folder / f\"{fig5_timestamp}_panel_B_remodeling_score.pdf\"\n",
    "plt.savefig(output_path, bbox_inches='tight', dpi=300)"
   ]
  },
  {
   "cell_type": "code",
   "execution_count": 10,
   "metadata": {},
   "outputs": [
    {
     "name": "stdout",
     "output_type": "stream",
     "text": [
      "cutoff = 1.6889563277651742\n"
     ]
    }
   ],
   "source": [
    "# calculate cutoff (1.5*IQR)\n",
    "\n",
    "# calculate Q1 and Q3\n",
    "Q1 = np.percentile(data, 25)\n",
    "Q3 = np.percentile(data, 75)\n",
    "\n",
    "# Calculate the IQR\n",
    "IQR = Q3 - Q1\n",
    "\n",
    "# calculate 1.5 * IQR\n",
    "one_point_five_IQR = 1.5 * IQR\n",
    "\n",
    "# calculate cutoff\n",
    "cutoff = Q3 + one_point_five_IQR\n",
    "\n",
    "print(f\"cutoff = {cutoff}\")"
   ]
  }
 ],
 "metadata": {
  "kernelspec": {
   "display_name": "orgIP",
   "language": "python",
   "name": "python3"
  },
  "language_info": {
   "codemirror_mode": {
    "name": "ipython",
    "version": 3
   },
   "file_extension": ".py",
   "mimetype": "text/x-python",
   "name": "python",
   "nbconvert_exporter": "python",
   "pygments_lexer": "ipython3",
   "version": "3.10.9"
  }
 },
 "nbformat": 4,
 "nbformat_minor": 2
}
