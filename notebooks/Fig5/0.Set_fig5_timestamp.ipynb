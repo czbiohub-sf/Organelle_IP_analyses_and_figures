{
 "cells": [
  {
   "cell_type": "markdown",
   "metadata": {},
   "source": [
    "# Set run timestamp (Figure 5)\n",
    "This notebook sets the run timestamp to use for input and output across notebooks in figure 5 (which has separate enrichment imputing steps)."
   ]
  },
  {
   "cell_type": "code",
   "execution_count": null,
   "metadata": {},
   "outputs": [],
   "source": [
    "# for NEW runs, set to false\n",
    "# to reproduce frozen figures, set to true\n",
    "FIG5_USE_FROZEN = True\n",
    "\n",
    "if FIG5_USE_FROZEN:\n",
    "    fig5_timestamp = \"2023-12-04-for-figures\"\n",
    "else:\n",
    "    fig5_timestamp = datetime.now().strftime(\"%Y-%m-%d\")\n",
    "\n",
    "%store fig5_timestamp FIG5_USE_FROZEN"
   ]
  }
 ],
 "metadata": {
  "language_info": {
   "name": "python"
  }
 },
 "nbformat": 4,
 "nbformat_minor": 2
}
