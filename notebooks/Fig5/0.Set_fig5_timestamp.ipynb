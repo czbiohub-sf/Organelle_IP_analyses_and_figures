{
 "cells": [
  {
   "cell_type": "markdown",
   "metadata": {},
   "source": [
    "# Set run timestamp (Figure 5)\n",
    "This notebook sets the run timestamp to use for input and output across notebooks in figure 5 (which has separate enrichment imputing steps)."
   ]
  },
  {
   "cell_type": "code",
   "execution_count": 2,
   "metadata": {},
   "outputs": [
    {
     "name": "stdout",
     "output_type": "stream",
     "text": [
      "Stored 'fig5_timestamp' (str)\n",
      "Stored 'FIG5_USE_FROZEN' (bool)\n"
     ]
    }
   ],
   "source": [
    "# for NEW runs, set to false\n",
    "# to reproduce frozen figures, set to true\n",
    "FIG5_USE_FROZEN = True\n",
    "\n",
    "if FIG5_USE_FROZEN:\n",
    "    fig5_timestamp = \"2023-10-21-for-figures\"\n",
    "else:\n",
    "    fig5_timestamp = datetime.now().strftime(\"%Y-%m-%d\")\n",
    "\n",
    "%store fig5_timestamp FIG5_USE_FROZEN"
   ]
  }
 ],
 "metadata": {
  "kernelspec": {
   "display_name": "orgIP",
   "language": "python",
   "name": "python3"
  },
  "language_info": {
   "codemirror_mode": {
    "name": "ipython",
    "version": 3
   },
   "file_extension": ".py",
   "mimetype": "text/x-python",
   "name": "python",
   "nbconvert_exporter": "python",
   "pygments_lexer": "ipython3",
   "version": "3.10.9"
  }
 },
 "nbformat": 4,
 "nbformat_minor": 2
}
