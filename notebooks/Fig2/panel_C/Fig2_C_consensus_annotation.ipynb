{
 "cells": [
  {
   "cell_type": "markdown",
   "metadata": {},
   "source": [
    "## Fig. 2 panel C protein-level concensus annotation\n",
    "\n",
    "This notebook generates two sets of annotations:\n",
    "- Graph-based_localization_annotation  \n",
    "  For each protein, this is the most common annotation in the neighbor annotation \n",
    "- consensus_graph_annnotation\n",
    "  Based on the graph-based localization annotation, for proteins where the graph-based annotation is unclassified, use the cluster annotation\n"
   ]
  },
  {
   "cell_type": "code",
   "execution_count": 37,
   "metadata": {},
   "outputs": [],
   "source": [
    "import copy\n",
    "import os\n",
    "import random\n",
    "import sys\n",
    "from datetime import datetime\n",
    "from pathlib import Path\n",
    "import anndata as ad\n",
    "import matplotlib.pyplot as plt\n",
    "import numpy as np\n",
    "import pandas as pd\n",
    "import plotly.io as pio\n",
    "import umap\n",
    "import umap.plot\n",
    "from tqdm.notebook import tqdm\n",
    "\n",
    "plt.style.use('ggplot')\n",
    "plt.rcParams['pdf.fonttype'] = 42\n",
    "\n",
    "script_path = Path.cwd().parent.parent.parent / \"script\"\n",
    "data_path = Path.cwd().parent.parent.parent / \"data\"\n",
    "sys.path.append(str(script_path))\n",
    "from external import clustering_workflows\n",
    "from utils.Jaccard_coefficient import *\n",
    "from utils.label_processing import attach_annotations\n",
    "\n",
    "save_path = Path.cwd() / \"output\"\n",
    "if not os.path.exists(save_path):\n",
    "    os.makedirs(save_path)"
   ]
  },
  {
   "cell_type": "markdown",
   "metadata": {},
   "source": [
    "## load the enrichment table"
   ]
  },
  {
   "cell_type": "code",
   "execution_count": 38,
   "metadata": {},
   "outputs": [
    {
     "name": "stdout",
     "output_type": "stream",
     "text": [
      "Timestamp: 2024-07-24\n"
     ]
    }
   ],
   "source": [
    "# %store -r timestamp USE_FROZEN\n",
    "# if USE_FROZEN:\n",
    "#     raise Exception(\"USE_FROZEN is true, you probably want to skip enrichment and proceed from Fig1\")\n",
    "timestamp = \"2024-07-24\"\n",
    "print(f\"Timestamp: {timestamp}\")\n"
   ]
  },
  {
   "cell_type": "code",
   "execution_count": 39,
   "metadata": {},
   "outputs": [],
   "source": [
    "# define files to load\n",
    "enrichment_dir = Path.cwd().parent.parent / \"enrichment\"\n",
    "enrichment_csv_path = enrichment_dir / \"output\" / \"enrichment_and_volcano_tables\" / f'{timestamp}_enrichment_table_NOC_prop.csv'\n",
    "\n",
    "try:\n",
    "    # load the file\n",
    "    enrichments = pd.read_csv(enrichment_csv_path, header=[0, 1], index_col=0)\n",
    "except FileNotFoundError:\n",
    "    print(f\"File {enrichment_csv_path} not found.\\nPlease run the enrichment analysis first or specify the correct timestamp, current value is {timestamp}\")\n",
    "except pd.errors.ParserError:\n",
    "    print(f\"There was an error parsing the CSV file at {enrichment_csv_path}.\")\n",
    "except Exception as e:\n",
    "    print(f\"An unexpected error occurred: {e}\")"
   ]
  },
  {
   "cell_type": "code",
   "execution_count": 40,
   "metadata": {},
   "outputs": [],
   "source": [
    "# check the enrichment metadata columns\n",
    "# enrichments[\"metadata\"]"
   ]
  },
  {
   "cell_type": "code",
   "execution_count": 41,
   "metadata": {},
   "outputs": [],
   "source": [
    "# check the sample columns\n",
    "# enrichments[\"sample\"]"
   ]
  },
  {
   "cell_type": "code",
   "execution_count": 20,
   "metadata": {},
   "outputs": [],
   "source": [
    "# attach canonical gene names\n",
    "gene_name_csv = data_path / \"external\" / \"canonical_names_and_Itzhak_data.csv\"\n",
    "\n",
    "lookup_table = pd.read_csv(gene_name_csv)\n",
    "to_df = enrichments[\"metadata\"].copy()\n",
    "list_of_cols_to_add = reversed([\"Gene_name_canonical\"])\n",
    "for c in list_of_cols_to_add:\n",
    "    new_col_data = attach_annotations(from_df=lookup_table, to_df=to_df, anno_col=c, from_on=\"Majority protein IDs\", to_on=\"Majority protein IDs\")\n",
    "    enrichments[(\"metadata\", \"Gene_name_canonical\")] = new_col_data\n",
    "\n",
    "# attach ground truth\n",
    "ground_truth_csv = data_path / \"external\" / \"curated_ground_truth_v9.0.csv\"\n",
    "\n",
    "lookup_table = pd.read_csv(ground_truth_csv)\n",
    "to_df = enrichments[\"metadata\"].copy()\n",
    "list_of_cols_to_add = reversed([\"compartment\"])\n",
    "for c in list_of_cols_to_add:\n",
    "    new_col_data = attach_annotations(from_df=lookup_table, to_df=to_df, anno_col=c, from_on=\"gene_name_canonical\", to_on=\"Gene_name_canonical\")\n",
    "    enrichments[(\"metadata\", \"curated_ground_truth_v9.0\")] = new_col_data\n",
    "\n",
    "# attach labels\n",
    "labels_csv = data_path / \"labels\" / \"cluster_annotation_Dec6.csv\"\n",
    "\n",
    "lookup_table = pd.read_csv(labels_csv)\n",
    "to_df = enrichments[\"metadata\"].copy()\n",
    "list_of_cols_to_add = reversed([\"cluster_annotation\"])\n",
    "for c in list_of_cols_to_add:\n",
    "    new_col_data = attach_annotations(from_df=lookup_table, to_df=to_df, anno_col=c, from_on=\"Majority protein IDs\", to_on=\"Majority protein IDs\")\n",
    "    enrichments[(\"metadata\", \"cluster_annotation\")] = new_col_data\n"
   ]
  },
  {
   "cell_type": "code",
   "execution_count": 21,
   "metadata": {},
   "outputs": [],
   "source": [
    "# remove 14-3-3 from cluster_annotation\n",
    "enrichments[(\"metadata\", \"cluster_annotation\")] = enrichments[(\"metadata\", \"cluster_annotation\")].copy().replace(\"14-3-3_scaffold\",\"unclassified\")"
   ]
  },
  {
   "cell_type": "code",
   "execution_count": 22,
   "metadata": {},
   "outputs": [
    {
     "data": {
      "text/plain": [
       "array(['nucleus', 'Golgi', 'cytosol', 'trans-Golgi', 'early_endosome',\n",
       "       'stress_granule', 'unclassified', 'centrosome', 'ER',\n",
       "       'recycling_endosome', 'plasma_membrane', 'actin_cytoskeleton',\n",
       "       'mitochondrion', 'lysosome', 'translation', 'nucleolus',\n",
       "       'peroxisome', 'p-body', 'ERGIC', 'proteasome'], dtype=object)"
      ]
     },
     "execution_count": 22,
     "metadata": {},
     "output_type": "execute_result"
    }
   ],
   "source": [
    "enrichments[(\"metadata\", \"cluster_annotation\")].unique()"
   ]
  },
  {
   "cell_type": "markdown",
   "metadata": {},
   "source": [
    "## sample selection"
   ]
  },
  {
   "cell_type": "code",
   "execution_count": 23,
   "metadata": {},
   "outputs": [],
   "source": [
    "# Sample selection for the Leiden and the UMAP algorithms, NOTE: manual sample removal is NOT in this cell\n",
    "\n",
    "# there are some superfluous samples in this table as well as WTs\n",
    "# these dont help too much in separating organelles so not counting them\n",
    "# we also remove the infected samples here as those shouldn't be used in calculating the reference UMAP\n",
    "cols = list(enrichments[\"sample\"])\n",
    "meta_cols = list(enrichments[\"metadata\"])\n",
    "samples = [\n",
    "    x for x in cols\n",
    "    if \"WT\" not in x\n",
    "    and \"harsh\" not in x\n",
    "    and \"unsorted\" not in x\n",
    "    and \"Infected\" not in x\n",
    "]\n",
    "\n",
    "# next, we remove additional samples using bait names\n",
    "genes = [x.split(\"-\")[1] if \"-\" in x else x for x in samples]\n",
    "sample_table = pd.DataFrame()\n",
    "sample_table[\"samples\"] = samples\n",
    "sample_table[\"bait\"] = genes\n",
    "\n",
    "bait_drop_list = [\"EXOC2\"]  # here we are just removing EXOC2\n",
    "selected_samples = []\n",
    "for index, row in sample_table.iterrows():\n",
    "    if row[\"bait\"] not in bait_drop_list:\n",
    "        selected_samples.append(row[\"samples\"])"
   ]
  },
  {
   "cell_type": "code",
   "execution_count": 24,
   "metadata": {},
   "outputs": [
    {
     "name": "stdout",
     "output_type": "stream",
     "text": [
      "the number of selected samples is 67\n",
      "the selected samples are ['01-CAPRIN1', '02-ATG101', '02-COPE', '02-DCP1A', '02-GOLGA2', '02-RICTOR', '03-HSP90AA', '03-HSPA1B', '03-SEC23A', '05-CAV1', '05-EDC4', '05-NCLN', '06-ATP6V1B2', '06-CCDC47', '06-CSNK2A1', '06-CSNK2A2', '07-AP4B1', '07-CLTA', '07-COG8', '07-RAPTOR', '09-ATG101', '09-EDC4', '09-HSP90AA1', '09-PEX3', '09-PSMB7', '09-TOMM20', '10-AP2B1', '10-RTN4', '10-TOMM20', '10-VPS35', '11-CEP350', '11-EEA1', '11-GPR107', '11-SEC31A', '12-ACTB', '12-G3BP1', '12-LAMP1', '12-PNPLA2', '12-RTN4', '12-SEC61B', '12-TOMM20', '13-GOLGA2', '13-RAB11A', '13-RAB14', '13-RAB1A', '13-RAB7A', '14-COPE', '14-GOLGA2', '14-RAB11A', '14-RAB14', '14-RAB1A', '14-RAB7A', '15-G3BP1', '15-GOLGA2', '15-LAMP1', '15-MAP1LC3B', '15-SEC61B', '15-TOMM20', '17-ATP1B3', '17-CAPRIN1', '17-G3BP1', '17-MAP1LC3B', '17-RPL36', '17-SLC30A2', 'NOC_cytosol', 'NOC_nuclear', 'NOC_organelle']\n"
     ]
    }
   ],
   "source": [
    "# check the selected samples\n",
    "print(f\"the number of selected samples is {len(selected_samples)}\")\n",
    "print(f\"the selected samples are {sorted(selected_samples)}\")"
   ]
  },
  {
   "cell_type": "code",
   "execution_count": 25,
   "metadata": {},
   "outputs": [],
   "source": [
    "# manually drop a few samples \n",
    "to_drop = [\"02-EXOC2\",\"06-ATP6V1B2\",\"06-CSNK2A1\", \"06-CSNK2A2\", \"07-AP4B1\", '02-RICTOR', \"07-RAPTOR\", \"10-AP2B1\", \"12-PNPLA2\"]  # for example: to_drop = [\"09-HSP90AA1\", \"09-PSMB7\"]\n",
    "selected_samples = [x for x in selected_samples if x not in to_drop]  # update the variable: selected_samples"
   ]
  },
  {
   "cell_type": "code",
   "execution_count": 26,
   "metadata": {},
   "outputs": [
    {
     "name": "stdout",
     "output_type": "stream",
     "text": [
      "the number of selected samples is 59\n",
      "the selected samples are ['01-CAPRIN1', '02-ATG101', '02-COPE', '02-DCP1A', '02-GOLGA2', '03-HSP90AA', '03-HSPA1B', '03-SEC23A', '05-CAV1', '05-EDC4', '05-NCLN', '06-CCDC47', '07-CLTA', '07-COG8', '09-ATG101', '09-EDC4', '09-HSP90AA1', '09-PEX3', '09-PSMB7', '09-TOMM20', '10-RTN4', '10-TOMM20', '10-VPS35', '11-CEP350', '11-EEA1', '11-GPR107', '11-SEC31A', '12-ACTB', '12-G3BP1', '12-LAMP1', '12-RTN4', '12-SEC61B', '12-TOMM20', '13-GOLGA2', '13-RAB11A', '13-RAB14', '13-RAB1A', '13-RAB7A', '14-COPE', '14-GOLGA2', '14-RAB11A', '14-RAB14', '14-RAB1A', '14-RAB7A', '15-G3BP1', '15-GOLGA2', '15-LAMP1', '15-MAP1LC3B', '15-SEC61B', '15-TOMM20', '17-ATP1B3', '17-CAPRIN1', '17-G3BP1', '17-MAP1LC3B', '17-RPL36', '17-SLC30A2', 'NOC_cytosol', 'NOC_nuclear', 'NOC_organelle']\n"
     ]
    }
   ],
   "source": [
    "# check the selected samples after manual sample removal\n",
    "print(f\"the number of selected samples is {len(selected_samples)}\")\n",
    "print(f\"the selected samples are {sorted(selected_samples)}\")"
   ]
  },
  {
   "cell_type": "markdown",
   "metadata": {},
   "source": [
    "## data preprocessing"
   ]
  },
  {
   "cell_type": "code",
   "execution_count": 27,
   "metadata": {},
   "outputs": [
    {
     "name": "stdout",
     "output_type": "stream",
     "text": [
      "the dimensions of the data table saved for UMAP are (8540, 59)\n"
     ]
    }
   ],
   "source": [
    "# save a copy of the tables for UMAP\n",
    "\n",
    "umap_table = enrichments.droplevel(0, axis=1)[meta_cols + selected_samples].copy()\n",
    "# normalization and UMAP algorithm are not compatible with any NaN values, so drop them\n",
    "umap_table = umap_table.dropna(subset=selected_samples)\n",
    "quants = umap_table[selected_samples].copy()\n",
    "print(f\"the dimensions of the data table saved for UMAP are {quants.shape}\")\n",
    "\n",
    "quants.to_csv(save_path / f\"{timestamp}_quants.csv\")\n",
    "umap_table.to_csv(save_path / f\"{timestamp}_umap_table.csv\")"
   ]
  },
  {
   "cell_type": "markdown",
   "metadata": {},
   "source": [
    "convert data into anndata format \n"
   ]
  },
  {
   "cell_type": "code",
   "execution_count": 28,
   "metadata": {},
   "outputs": [
    {
     "name": "stderr",
     "output_type": "stream",
     "text": [
      "c:\\Users\\duo.peng\\Anaconda3\\envs\\orgIP\\lib\\site-packages\\anndata\\_core\\anndata.py:430: FutureWarning: The dtype argument is deprecated and will be removed in late 2024.\n",
      "  warnings.warn(\n",
      "c:\\Users\\duo.peng\\Anaconda3\\envs\\orgIP\\lib\\site-packages\\anndata\\_core\\aligned_df.py:67: ImplicitModificationWarning: Transforming to str index.\n",
      "  warnings.warn(\"Transforming to str index.\", ImplicitModificationWarning)\n"
     ]
    }
   ],
   "source": [
    "# generating AnnData\n",
    "selected = enrichments['sample'][selected_samples].copy()\n",
    "adata = ad.AnnData(selected, dtype=np.float32)\n",
    "\n",
    "adata.var_names = selected.columns.to_list()\n",
    "adata.obs_names = enrichments['metadata'][\"Protein IDs\"].to_list()\n",
    "adata.obs[\"Protein IDs\"] = enrichments['metadata'][\"Protein IDs\"].to_list()\n",
    "adata.obs[\"Majority protein IDs\"] = enrichments['metadata'][\"Majority protein IDs\"].to_list()\n",
    "adata.obs[\"Gene_name_canonical\"] = enrichments['metadata'][\"Gene_name_canonical\"].to_list()\n",
    "adata.obs[\"curated_ground_truth_v9.0\"] = enrichments['metadata'][\"curated_ground_truth_v9.0\"].to_list()\n",
    "adata.obs[\"cluster_annotation\"] = enrichments['metadata'][\"cluster_annotation\"].to_list()\n",
    "\n",
    "adata.write_h5ad(save_path / f\"adata_{timestamp}.h5ad\")"
   ]
  },
  {
   "cell_type": "markdown",
   "metadata": {},
   "source": [
    "## compute knn graph (and save a copy for later use)"
   ]
  },
  {
   "cell_type": "code",
   "execution_count": 29,
   "metadata": {},
   "outputs": [],
   "source": [
    "# instantiate a clusteringworkflow class (to use the part of workflow that computes the nearest neighbor graph)\n",
    "kNN_obj = clustering_workflows.ClusteringWorkflow(adata=copy.deepcopy(adata))\n",
    "# preprocessing\n",
    "kNN_obj.preprocess(n_pcs=None)\n",
    "# compute nearest neighbor graph\n",
    "kNN_obj.calculate_neighbors(n_pcs=None, n_neighbors=20)\n",
    "adata = kNN_obj.adata\n",
    "# save a copy of the adata object that contains the kNN graph\n",
    "knn_adata_path = save_path / f\"adata_kNN_{timestamp}.h5ad\"\n",
    "adata.write(knn_adata_path)"
   ]
  },
  {
   "cell_type": "code",
   "execution_count": 30,
   "metadata": {},
   "outputs": [
    {
     "data": {
      "text/plain": [
       "AnnData object with n_obs × n_vars = 8540 × 59\n",
       "    obs: 'Protein IDs', 'Majority protein IDs', 'Gene_name_canonical', 'curated_ground_truth_v9.0', 'cluster_annotation'\n",
       "    var: 'mean', 'std'\n",
       "    uns: 'neighbors'\n",
       "    obsp: 'distances', 'connectivities'"
      ]
     },
     "execution_count": 30,
     "metadata": {},
     "output_type": "execute_result"
    }
   ],
   "source": [
    "kNN_obj.adata"
   ]
  },
  {
   "cell_type": "markdown",
   "metadata": {},
   "source": [
    "## generate protein-level consensus annotation"
   ]
  },
  {
   "cell_type": "code",
   "execution_count": 31,
   "metadata": {},
   "outputs": [],
   "source": [
    "all_majority_ids = adata.obs[\"Majority protein IDs\"].to_list()\n",
    "all_genes = adata.obs[\"Gene_name_canonical\"].to_list()\n",
    "\n",
    "annot_df = pd.DataFrame(\n",
    "    list(zip(\n",
    "            adata.obs[\"Majority protein IDs\"].to_list(),\n",
    "            adata.obs[\"Gene_name_canonical\"].to_list(),\n",
    "            adata.obs[\"cluster_annotation\"].to_list(),\n",
    "        )),\n",
    "    columns=[\"Majority protein IDs\", \"Gene_name_canonical\", \"cluster_annotation\"],\n",
    ")"
   ]
  },
  {
   "cell_type": "code",
   "execution_count": 32,
   "metadata": {},
   "outputs": [
    {
     "data": {
      "application/vnd.jupyter.widget-view+json": {
       "model_id": "24ec3a60b76f44c2bcea4af7ec2fe589",
       "version_major": 2,
       "version_minor": 0
      },
      "text/plain": [
       "  0%|          | 0/8540 [00:00<?, ?it/s]"
      ]
     },
     "metadata": {},
     "output_type": "display_data"
    }
   ],
   "source": [
    "# iterate over all genes and generate protein-level consensus annotation\n",
    "Graph_based_loc_annot = []\n",
    "neighbors = []\n",
    "\n",
    "for idx, gene in tqdm(enumerate(all_genes), total=len(all_genes)): \n",
    "    neighbor_list, neighbor_annot_list = gene_neighbor_annots(gene_name=gene, adata=adata, annot_df=annot_df, gene_name_col=\"Gene_name_canonical\", annot_col=\"cluster_annotation\")\n",
    "    # get the most common annotation in the neighbor annotation\n",
    "    most_common_annot = Counter(neighbor_annot_list).most_common(1)[0][0]\n",
    "    if most_common_annot == \"unclassified\":\n",
    "        # get the next common annotation\n",
    "        most_common_annot = Counter(neighbor_annot_list).most_common(2)[1][0]\n",
    "    Graph_based_loc_annot.append(most_common_annot)    \n",
    "    neighbors.append([list(Counter(neighbor_annot_list).items())])"
   ]
  },
  {
   "cell_type": "code",
   "execution_count": 34,
   "metadata": {},
   "outputs": [
    {
     "name": "stdout",
     "output_type": "stream",
     "text": [
      "Number of proteins with unclassified graph-based annotation: 1147\n"
     ]
    }
   ],
   "source": [
    "# add the consensus annotation to the dataframe\n",
    "annot_df[\"Graph-based_localization_annotation\"] = Graph_based_loc_annot\n",
    "annot_df[\"consensus_graph_annnotation\"] = Graph_based_loc_annot  # initialize the column\n",
    "annot_df[\"neighbors\"] = neighbors\n",
    "\n",
    "# for proteins where the graph-based annotation is unclassified, use the cluster annotation\n",
    "mask = annot_df[\"Graph-based_localization_annotation\"] == \"unclassified\"\n",
    "print(\"Number of proteins with unclassified graph-based annotation:\", sum(mask))\n",
    "annot_df.loc[mask, \"consensus_graph_annnotation\"] = annot_df.loc[mask, \"cluster_annotation\"]\n",
    "\n",
    "# save the annotation table\n",
    "annot_df.to_csv(save_path / f\"{timestamp}_graph-based_annotations.csv\")"
   ]
  },
  {
   "cell_type": "code",
   "execution_count": 35,
   "metadata": {},
   "outputs": [],
   "source": [
    "# add the annotations to the adata object\n",
    "adata.obs[\"Graph-based_localization_annotation\"] = annot_df[\"Graph-based_localization_annotation\"].to_list()\n",
    "adata.obs[\"consensus_graph_annnotation\"] = annot_df[\"consensus_graph_annnotation\"].to_list()\n",
    "# save a copy of the (updated) adata object, overwriting the previous one\n",
    "adata_path = save_path / f\"adata_kNN_{timestamp}.h5ad\"\n",
    "adata.write(adata_path)\n",
    "\n",
    "# add the annotations to the umap_table\n",
    "umap_table.insert(6, \"consensus_graph_annnotation\", annot_df[\"consensus_graph_annnotation\"].to_list())\n",
    "umap_table.insert(6, \"Graph-based_localization_annotation\", annot_df[\"Graph-based_localization_annotation\"].to_list())\n",
    "umap_table.insert(6, \"neighbors\", annot_df[\"neighbors\"].to_list())\n",
    "# save a copy of the (updated) umap_table\n",
    "umap_table.to_csv(save_path / f\"{timestamp}_umap_table.csv\")"
   ]
  },
  {
   "cell_type": "code",
   "execution_count": 36,
   "metadata": {},
   "outputs": [
    {
     "data": {
      "text/html": [
       "<div>\n",
       "<style scoped>\n",
       "    .dataframe tbody tr th:only-of-type {\n",
       "        vertical-align: middle;\n",
       "    }\n",
       "\n",
       "    .dataframe tbody tr th {\n",
       "        vertical-align: top;\n",
       "    }\n",
       "\n",
       "    .dataframe thead th {\n",
       "        text-align: right;\n",
       "    }\n",
       "</style>\n",
       "<table border=\"1\" class=\"dataframe\">\n",
       "  <thead>\n",
       "    <tr style=\"text-align: right;\">\n",
       "      <th></th>\n",
       "      <th>Protein IDs</th>\n",
       "      <th>Majority protein IDs</th>\n",
       "      <th>Gene names</th>\n",
       "      <th>Gene_name_canonical</th>\n",
       "      <th>curated_ground_truth_v9.0</th>\n",
       "      <th>cluster_annotation</th>\n",
       "      <th>neighbors</th>\n",
       "      <th>Graph-based_localization_annotation</th>\n",
       "      <th>consensus_graph_annnotation</th>\n",
       "      <th>12-LAMP1</th>\n",
       "      <th>...</th>\n",
       "      <th>11-SEC31A</th>\n",
       "      <th>09-HSP90AA1</th>\n",
       "      <th>10-RTN4</th>\n",
       "      <th>09-TOMM20</th>\n",
       "      <th>11-CEP350</th>\n",
       "      <th>09-ATG101</th>\n",
       "      <th>10-TOMM20</th>\n",
       "      <th>NOC_cytosol</th>\n",
       "      <th>NOC_organelle</th>\n",
       "      <th>NOC_nuclear</th>\n",
       "    </tr>\n",
       "  </thead>\n",
       "  <tbody>\n",
       "    <tr>\n",
       "      <th>0</th>\n",
       "      <td>A0A023T6R1;Q96A72;F5H6P7;F5H6N1;F5H3U9;F5H124</td>\n",
       "      <td>A0A023T6R1;Q96A72;F5H6P7;F5H6N1</td>\n",
       "      <td>FLJ10292;MAGOHB</td>\n",
       "      <td>MAGOHB</td>\n",
       "      <td>NaN</td>\n",
       "      <td>nucleus</td>\n",
       "      <td>[[(nucleus, 16), (ER, 1), (unclassified, 4)]]</td>\n",
       "      <td>nucleus</td>\n",
       "      <td>nucleus</td>\n",
       "      <td>-0.141427</td>\n",
       "      <td>...</td>\n",
       "      <td>0.084513</td>\n",
       "      <td>-1.310187</td>\n",
       "      <td>-0.369807</td>\n",
       "      <td>-0.294506</td>\n",
       "      <td>0.212616</td>\n",
       "      <td>3.018858</td>\n",
       "      <td>-1.547331</td>\n",
       "      <td>0.235748</td>\n",
       "      <td>0.241247</td>\n",
       "      <td>0.523005</td>\n",
       "    </tr>\n",
       "    <tr>\n",
       "      <th>1</th>\n",
       "      <td>Q9Y5S9;A0A023T787;A0A0J9YW13</td>\n",
       "      <td>Q9Y5S9;A0A023T787</td>\n",
       "      <td>RBM8A;RBM8</td>\n",
       "      <td>RBM8A</td>\n",
       "      <td>NaN</td>\n",
       "      <td>nucleus</td>\n",
       "      <td>[[(nucleus, 45), (unclassified, 9), (nucleolus...</td>\n",
       "      <td>nucleus</td>\n",
       "      <td>nucleus</td>\n",
       "      <td>-0.588500</td>\n",
       "      <td>...</td>\n",
       "      <td>0.979850</td>\n",
       "      <td>-2.443700</td>\n",
       "      <td>-1.899050</td>\n",
       "      <td>-2.430950</td>\n",
       "      <td>0.895300</td>\n",
       "      <td>-0.728450</td>\n",
       "      <td>-2.969400</td>\n",
       "      <td>0.362391</td>\n",
       "      <td>0.286889</td>\n",
       "      <td>0.350721</td>\n",
       "    </tr>\n",
       "    <tr>\n",
       "      <th>2</th>\n",
       "      <td>A0A0C4DFM1;A0A024QYR3;Q92544;B4DH88;B4DKC1;Q6Z...</td>\n",
       "      <td>A0A0C4DFM1;A0A024QYR3;Q92544;B4DH88;B4DKC1;Q6ZTK5</td>\n",
       "      <td>TM9SF4</td>\n",
       "      <td>TM9SF4</td>\n",
       "      <td>Golgi</td>\n",
       "      <td>Golgi</td>\n",
       "      <td>[[(trans-Golgi, 8), (Golgi, 42), (ERGIC, 3)]]</td>\n",
       "      <td>Golgi</td>\n",
       "      <td>Golgi</td>\n",
       "      <td>3.703700</td>\n",
       "      <td>...</td>\n",
       "      <td>1.688300</td>\n",
       "      <td>-5.186684</td>\n",
       "      <td>1.852200</td>\n",
       "      <td>-2.612500</td>\n",
       "      <td>0.397300</td>\n",
       "      <td>2.393000</td>\n",
       "      <td>-2.685600</td>\n",
       "      <td>0.054846</td>\n",
       "      <td>0.654148</td>\n",
       "      <td>0.291006</td>\n",
       "    </tr>\n",
       "    <tr>\n",
       "      <th>3</th>\n",
       "      <td>A0A024QYR6;A0A1V0DNR7;A0A6G6A825;F6KD02;F6KD01...</td>\n",
       "      <td>A0A024QYR6;A0A1V0DNR7;A0A6G6A825;F6KD02;F6KD01...</td>\n",
       "      <td>PTEN</td>\n",
       "      <td>PTEN</td>\n",
       "      <td>NaN</td>\n",
       "      <td>cytosol</td>\n",
       "      <td>[[(cytosol, 20)]]</td>\n",
       "      <td>cytosol</td>\n",
       "      <td>cytosol</td>\n",
       "      <td>0.261350</td>\n",
       "      <td>...</td>\n",
       "      <td>0.361729</td>\n",
       "      <td>-0.195980</td>\n",
       "      <td>0.269211</td>\n",
       "      <td>-0.420635</td>\n",
       "      <td>-0.067346</td>\n",
       "      <td>-0.332397</td>\n",
       "      <td>0.223960</td>\n",
       "      <td>1.000000</td>\n",
       "      <td>0.000000</td>\n",
       "      <td>0.000000</td>\n",
       "    </tr>\n",
       "    <tr>\n",
       "      <th>4</th>\n",
       "      <td>Q99805;A0A024QYR8;B3KSG9</td>\n",
       "      <td>Q99805;A0A024QYR8;B3KSG9</td>\n",
       "      <td>TM9SF2</td>\n",
       "      <td>TM9SF2</td>\n",
       "      <td>Golgi</td>\n",
       "      <td>trans-Golgi</td>\n",
       "      <td>[[(Golgi, 6), (plasma_membrane, 1), (trans-Gol...</td>\n",
       "      <td>trans-Golgi</td>\n",
       "      <td>trans-Golgi</td>\n",
       "      <td>5.499848</td>\n",
       "      <td>...</td>\n",
       "      <td>1.179800</td>\n",
       "      <td>-3.389100</td>\n",
       "      <td>1.524950</td>\n",
       "      <td>-1.385850</td>\n",
       "      <td>-0.438800</td>\n",
       "      <td>-0.412350</td>\n",
       "      <td>-2.382900</td>\n",
       "      <td>0.083591</td>\n",
       "      <td>0.697825</td>\n",
       "      <td>0.218584</td>\n",
       "    </tr>\n",
       "    <tr>\n",
       "      <th>...</th>\n",
       "      <td>...</td>\n",
       "      <td>...</td>\n",
       "      <td>...</td>\n",
       "      <td>...</td>\n",
       "      <td>...</td>\n",
       "      <td>...</td>\n",
       "      <td>...</td>\n",
       "      <td>...</td>\n",
       "      <td>...</td>\n",
       "      <td>...</td>\n",
       "      <td>...</td>\n",
       "      <td>...</td>\n",
       "      <td>...</td>\n",
       "      <td>...</td>\n",
       "      <td>...</td>\n",
       "      <td>...</td>\n",
       "      <td>...</td>\n",
       "      <td>...</td>\n",
       "      <td>...</td>\n",
       "      <td>...</td>\n",
       "      <td>...</td>\n",
       "    </tr>\n",
       "    <tr>\n",
       "      <th>8535</th>\n",
       "      <td>X5D7P8</td>\n",
       "      <td>X5D7P8</td>\n",
       "      <td>STK39</td>\n",
       "      <td>STK39</td>\n",
       "      <td>NaN</td>\n",
       "      <td>cytosol</td>\n",
       "      <td>[[(unclassified, 11), (cytosol, 43)]]</td>\n",
       "      <td>cytosol</td>\n",
       "      <td>cytosol</td>\n",
       "      <td>-0.030088</td>\n",
       "      <td>...</td>\n",
       "      <td>1.326828</td>\n",
       "      <td>-0.147448</td>\n",
       "      <td>0.818616</td>\n",
       "      <td>-0.715761</td>\n",
       "      <td>-0.227490</td>\n",
       "      <td>0.874124</td>\n",
       "      <td>0.660835</td>\n",
       "      <td>0.765637</td>\n",
       "      <td>0.145727</td>\n",
       "      <td>0.088636</td>\n",
       "    </tr>\n",
       "    <tr>\n",
       "      <th>8536</th>\n",
       "      <td>X5D8X9</td>\n",
       "      <td>X5D8X9</td>\n",
       "      <td>CNTNAP2</td>\n",
       "      <td>CNTNAP2</td>\n",
       "      <td>NaN</td>\n",
       "      <td>plasma_membrane</td>\n",
       "      <td>[[(plasma_membrane, 20), (nucleolus, 1)]]</td>\n",
       "      <td>plasma_membrane</td>\n",
       "      <td>plasma_membrane</td>\n",
       "      <td>-0.052453</td>\n",
       "      <td>...</td>\n",
       "      <td>1.567885</td>\n",
       "      <td>-0.780498</td>\n",
       "      <td>-0.554957</td>\n",
       "      <td>-1.183749</td>\n",
       "      <td>1.758580</td>\n",
       "      <td>0.498581</td>\n",
       "      <td>-0.680795</td>\n",
       "      <td>0.000000</td>\n",
       "      <td>0.802964</td>\n",
       "      <td>0.197036</td>\n",
       "    </tr>\n",
       "    <tr>\n",
       "      <th>8537</th>\n",
       "      <td>X5DQV1;X5DNI1;B3KV96;E9PD68;B3KXQ5;Q14194;B3KT...</td>\n",
       "      <td>X5DQV1;X5DNI1;B3KV96;E9PD68;B3KXQ5;Q14194;B3KT...</td>\n",
       "      <td>CRMP1</td>\n",
       "      <td>CRMP1</td>\n",
       "      <td>NaN</td>\n",
       "      <td>cytosol</td>\n",
       "      <td>[[(cytosol, 21), (unclassified, 1)]]</td>\n",
       "      <td>cytosol</td>\n",
       "      <td>cytosol</td>\n",
       "      <td>0.327787</td>\n",
       "      <td>...</td>\n",
       "      <td>1.309921</td>\n",
       "      <td>1.010047</td>\n",
       "      <td>-0.362585</td>\n",
       "      <td>1.048421</td>\n",
       "      <td>-0.334151</td>\n",
       "      <td>-0.265872</td>\n",
       "      <td>-0.425032</td>\n",
       "      <td>1.000000</td>\n",
       "      <td>0.000000</td>\n",
       "      <td>0.000000</td>\n",
       "    </tr>\n",
       "    <tr>\n",
       "      <th>8538</th>\n",
       "      <td>X5DQZ7</td>\n",
       "      <td>X5DQZ7</td>\n",
       "      <td>GPX1</td>\n",
       "      <td>GPX1</td>\n",
       "      <td>NaN</td>\n",
       "      <td>mitochondrion</td>\n",
       "      <td>[[(mitochondrion, 30), (unclassified, 5), (cyt...</td>\n",
       "      <td>mitochondrion</td>\n",
       "      <td>mitochondrion</td>\n",
       "      <td>0.261512</td>\n",
       "      <td>...</td>\n",
       "      <td>-1.048860</td>\n",
       "      <td>3.884103</td>\n",
       "      <td>0.371638</td>\n",
       "      <td>2.954144</td>\n",
       "      <td>-0.481100</td>\n",
       "      <td>-0.570653</td>\n",
       "      <td>2.896576</td>\n",
       "      <td>0.720741</td>\n",
       "      <td>0.279259</td>\n",
       "      <td>0.000000</td>\n",
       "    </tr>\n",
       "    <tr>\n",
       "      <th>8539</th>\n",
       "      <td>X6RHX1</td>\n",
       "      <td>X6RHX1</td>\n",
       "      <td>SCYL3</td>\n",
       "      <td>SCYL3</td>\n",
       "      <td>NaN</td>\n",
       "      <td>cytosol</td>\n",
       "      <td>[[(unclassified, 6), (cytosol, 26), (ER, 5), (...</td>\n",
       "      <td>cytosol</td>\n",
       "      <td>cytosol</td>\n",
       "      <td>0.746831</td>\n",
       "      <td>...</td>\n",
       "      <td>1.651398</td>\n",
       "      <td>0.279959</td>\n",
       "      <td>-1.412437</td>\n",
       "      <td>-0.503901</td>\n",
       "      <td>-0.767265</td>\n",
       "      <td>-0.747004</td>\n",
       "      <td>-1.196105</td>\n",
       "      <td>1.000000</td>\n",
       "      <td>0.000000</td>\n",
       "      <td>0.000000</td>\n",
       "    </tr>\n",
       "  </tbody>\n",
       "</table>\n",
       "<p>8540 rows × 68 columns</p>\n",
       "</div>"
      ],
      "text/plain": [
       "                                            Protein IDs  \\\n",
       "0         A0A023T6R1;Q96A72;F5H6P7;F5H6N1;F5H3U9;F5H124   \n",
       "1                          Q9Y5S9;A0A023T787;A0A0J9YW13   \n",
       "2     A0A0C4DFM1;A0A024QYR3;Q92544;B4DH88;B4DKC1;Q6Z...   \n",
       "3     A0A024QYR6;A0A1V0DNR7;A0A6G6A825;F6KD02;F6KD01...   \n",
       "4                              Q99805;A0A024QYR8;B3KSG9   \n",
       "...                                                 ...   \n",
       "8535                                             X5D7P8   \n",
       "8536                                             X5D8X9   \n",
       "8537  X5DQV1;X5DNI1;B3KV96;E9PD68;B3KXQ5;Q14194;B3KT...   \n",
       "8538                                             X5DQZ7   \n",
       "8539                                             X6RHX1   \n",
       "\n",
       "                                   Majority protein IDs       Gene names  \\\n",
       "0                       A0A023T6R1;Q96A72;F5H6P7;F5H6N1  FLJ10292;MAGOHB   \n",
       "1                                     Q9Y5S9;A0A023T787       RBM8A;RBM8   \n",
       "2     A0A0C4DFM1;A0A024QYR3;Q92544;B4DH88;B4DKC1;Q6ZTK5           TM9SF4   \n",
       "3     A0A024QYR6;A0A1V0DNR7;A0A6G6A825;F6KD02;F6KD01...             PTEN   \n",
       "4                              Q99805;A0A024QYR8;B3KSG9           TM9SF2   \n",
       "...                                                 ...              ...   \n",
       "8535                                             X5D7P8            STK39   \n",
       "8536                                             X5D8X9          CNTNAP2   \n",
       "8537  X5DQV1;X5DNI1;B3KV96;E9PD68;B3KXQ5;Q14194;B3KT...            CRMP1   \n",
       "8538                                             X5DQZ7             GPX1   \n",
       "8539                                             X6RHX1            SCYL3   \n",
       "\n",
       "     Gene_name_canonical curated_ground_truth_v9.0 cluster_annotation  \\\n",
       "0                 MAGOHB                       NaN            nucleus   \n",
       "1                  RBM8A                       NaN            nucleus   \n",
       "2                 TM9SF4                     Golgi              Golgi   \n",
       "3                   PTEN                       NaN            cytosol   \n",
       "4                 TM9SF2                     Golgi        trans-Golgi   \n",
       "...                  ...                       ...                ...   \n",
       "8535               STK39                       NaN            cytosol   \n",
       "8536             CNTNAP2                       NaN    plasma_membrane   \n",
       "8537               CRMP1                       NaN            cytosol   \n",
       "8538                GPX1                       NaN      mitochondrion   \n",
       "8539               SCYL3                       NaN            cytosol   \n",
       "\n",
       "                                              neighbors  \\\n",
       "0         [[(nucleus, 16), (ER, 1), (unclassified, 4)]]   \n",
       "1     [[(nucleus, 45), (unclassified, 9), (nucleolus...   \n",
       "2         [[(trans-Golgi, 8), (Golgi, 42), (ERGIC, 3)]]   \n",
       "3                                     [[(cytosol, 20)]]   \n",
       "4     [[(Golgi, 6), (plasma_membrane, 1), (trans-Gol...   \n",
       "...                                                 ...   \n",
       "8535              [[(unclassified, 11), (cytosol, 43)]]   \n",
       "8536          [[(plasma_membrane, 20), (nucleolus, 1)]]   \n",
       "8537               [[(cytosol, 21), (unclassified, 1)]]   \n",
       "8538  [[(mitochondrion, 30), (unclassified, 5), (cyt...   \n",
       "8539  [[(unclassified, 6), (cytosol, 26), (ER, 5), (...   \n",
       "\n",
       "     Graph-based_localization_annotation consensus_graph_annnotation  \\\n",
       "0                                nucleus                     nucleus   \n",
       "1                                nucleus                     nucleus   \n",
       "2                                  Golgi                       Golgi   \n",
       "3                                cytosol                     cytosol   \n",
       "4                            trans-Golgi                 trans-Golgi   \n",
       "...                                  ...                         ...   \n",
       "8535                             cytosol                     cytosol   \n",
       "8536                     plasma_membrane             plasma_membrane   \n",
       "8537                             cytosol                     cytosol   \n",
       "8538                       mitochondrion               mitochondrion   \n",
       "8539                             cytosol                     cytosol   \n",
       "\n",
       "      12-LAMP1  ...  11-SEC31A  09-HSP90AA1   10-RTN4  09-TOMM20  11-CEP350  \\\n",
       "0    -0.141427  ...   0.084513    -1.310187 -0.369807  -0.294506   0.212616   \n",
       "1    -0.588500  ...   0.979850    -2.443700 -1.899050  -2.430950   0.895300   \n",
       "2     3.703700  ...   1.688300    -5.186684  1.852200  -2.612500   0.397300   \n",
       "3     0.261350  ...   0.361729    -0.195980  0.269211  -0.420635  -0.067346   \n",
       "4     5.499848  ...   1.179800    -3.389100  1.524950  -1.385850  -0.438800   \n",
       "...        ...  ...        ...          ...       ...        ...        ...   \n",
       "8535 -0.030088  ...   1.326828    -0.147448  0.818616  -0.715761  -0.227490   \n",
       "8536 -0.052453  ...   1.567885    -0.780498 -0.554957  -1.183749   1.758580   \n",
       "8537  0.327787  ...   1.309921     1.010047 -0.362585   1.048421  -0.334151   \n",
       "8538  0.261512  ...  -1.048860     3.884103  0.371638   2.954144  -0.481100   \n",
       "8539  0.746831  ...   1.651398     0.279959 -1.412437  -0.503901  -0.767265   \n",
       "\n",
       "      09-ATG101  10-TOMM20  NOC_cytosol  NOC_organelle  NOC_nuclear  \n",
       "0      3.018858  -1.547331     0.235748       0.241247     0.523005  \n",
       "1     -0.728450  -2.969400     0.362391       0.286889     0.350721  \n",
       "2      2.393000  -2.685600     0.054846       0.654148     0.291006  \n",
       "3     -0.332397   0.223960     1.000000       0.000000     0.000000  \n",
       "4     -0.412350  -2.382900     0.083591       0.697825     0.218584  \n",
       "...         ...        ...          ...            ...          ...  \n",
       "8535   0.874124   0.660835     0.765637       0.145727     0.088636  \n",
       "8536   0.498581  -0.680795     0.000000       0.802964     0.197036  \n",
       "8537  -0.265872  -0.425032     1.000000       0.000000     0.000000  \n",
       "8538  -0.570653   2.896576     0.720741       0.279259     0.000000  \n",
       "8539  -0.747004  -1.196105     1.000000       0.000000     0.000000  \n",
       "\n",
       "[8540 rows x 68 columns]"
      ]
     },
     "execution_count": 36,
     "metadata": {},
     "output_type": "execute_result"
    }
   ],
   "source": [
    "umap_table"
   ]
  }
 ],
 "metadata": {
  "kernelspec": {
   "display_name": "orgIP",
   "language": "python",
   "name": "python3"
  },
  "language_info": {
   "codemirror_mode": {
    "name": "ipython",
    "version": 3
   },
   "file_extension": ".py",
   "mimetype": "text/x-python",
   "name": "python",
   "nbconvert_exporter": "python",
   "pygments_lexer": "ipython3",
   "version": "3.10.9"
  },
  "orig_nbformat": 4
 },
 "nbformat": 4,
 "nbformat_minor": 2
}
