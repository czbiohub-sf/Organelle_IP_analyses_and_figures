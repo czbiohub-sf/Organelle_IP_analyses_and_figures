{
 "cells": [
  {
   "cell_type": "markdown",
   "metadata": {},
   "source": [
    "# Set run timestamp\n",
    "This notebook sets the run timestamp to use for input and output across notebooks.\n",
    "\n",
    "This is useful for two situations:\n",
    "1. Running the analysis across multiple days - the timestamp will still be valid if running later notebooks at a different time, as long as **this** notebook is only run once at the start of the analysis.\n",
    "2. Reusing previous imputed result tables - the timestamp to use is configured from only one place, rather than in all notebooks."
   ]
  },
  {
   "cell_type": "code",
   "execution_count": 2,
   "metadata": {},
   "outputs": [
    {
     "name": "stdout",
     "output_type": "stream",
     "text": [
      "set timestamp to: 2023-10-21-imp5-for-figures\n",
      "Stored 'timestamp' (str)\n",
      "Stored 'USE_FROZEN' (bool)\n"
     ]
    }
   ],
   "source": [
    "# for NEW runs, set to false\n",
    "# to reproduce frozen figures, set to true\n",
    "USE_FROZEN = True\n",
    "\n",
    "if USE_FROZEN:\n",
    "    timestamp = \"2023-10-21-imp5-for-figures\"\n",
    "else:\n",
    "    from datetime import datetime\n",
    "    timestamp = datetime.now().strftime(\"%Y-%m-%d\")\n",
    "\n",
    "print(f\"set timestamp to: {timestamp}\")\n",
    "\n",
    "%store timestamp USE_FROZEN"
   ]
  }
 ],
 "metadata": {
  "kernelspec": {
   "display_name": "OrgIP_zenodo",
   "language": "python",
   "name": "python3"
  },
  "language_info": {
   "codemirror_mode": {
    "name": "ipython",
    "version": 3
   },
   "file_extension": ".py",
   "mimetype": "text/x-python",
   "name": "python",
   "nbconvert_exporter": "python",
   "pygments_lexer": "ipython3",
   "version": "3.10.9"
  }
 },
 "nbformat": 4,
 "nbformat_minor": 2
}
